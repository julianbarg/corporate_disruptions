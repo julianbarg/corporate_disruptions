{
 "cells": [
  {
   "cell_type": "markdown",
   "metadata": {},
   "source": [
    "# 1.2 Data Collection - Collect company data from compustat"
   ]
  },
  {
   "cell_type": "markdown",
   "metadata": {},
   "source": [
    "First, we setup our connection to the wrds database."
   ]
  },
  {
   "cell_type": "code",
   "execution_count": 1,
   "metadata": {
    "scrolled": false
   },
   "outputs": [
    {
     "name": "stderr",
     "output_type": "stream",
     "text": [
      "/home/julian/PycharmProjects/corporate_disruptions/venv/lib/python3.6/site-packages/psycopg2/__init__.py:144: UserWarning: The psycopg2 wheel package will be renamed from release 2.8; in order to keep installing from binary please use \"pip install psycopg2-binary\" instead. For details see: <http://initd.org/psycopg/docs/install.html#binary-install-from-pypi>.\n",
      "  \"\"\")\n"
     ]
    },
    {
     "name": "stdout",
     "output_type": "stream",
     "text": [
      "Loading library list...\n",
      "Done\n"
     ]
    }
   ],
   "source": [
    "import wrds_tools\n",
    "import parameters\n",
    "\n",
    "wrds = wrds_tools.WrdsConnection(wrds_username=parameters.wrds_username)"
   ]
  },
  {
   "cell_type": "markdown",
   "metadata": {},
   "source": [
    "Setup observation period and grab the basic info we need."
   ]
  },
  {
   "cell_type": "code",
   "execution_count": 2,
   "metadata": {},
   "outputs": [],
   "source": [
    "from datetime import date\n",
    "\n",
    "wrds.set_selection_period(start_date=date(year=1999, month=1, day=1), \n",
    "                            end_date=date(year=2018, month=12, day=31))\n",
    "wrds.build_sp500()"
   ]
  },
  {
   "cell_type": "markdown",
   "metadata": {},
   "source": [
    "Add names and industry classification system GICS"
   ]
  },
  {
   "cell_type": "code",
   "execution_count": 3,
   "metadata": {
    "scrolled": true
   },
   "outputs": [
    {
     "data": {
      "text/html": [
       "<div>\n",
       "<style scoped>\n",
       "    .dataframe tbody tr th:only-of-type {\n",
       "        vertical-align: middle;\n",
       "    }\n",
       "\n",
       "    .dataframe tbody tr th {\n",
       "        vertical-align: top;\n",
       "    }\n",
       "\n",
       "    .dataframe thead th {\n",
       "        text-align: right;\n",
       "    }\n",
       "</style>\n",
       "<table border=\"1\" class=\"dataframe\">\n",
       "  <thead>\n",
       "    <tr style=\"text-align: right;\">\n",
       "      <th></th>\n",
       "      <th>gvkey</th>\n",
       "      <th>name</th>\n",
       "      <th>SIC</th>\n",
       "      <th>NAICS</th>\n",
       "      <th>GICS_group</th>\n",
       "      <th>GICS_industry</th>\n",
       "      <th>GICS_sector</th>\n",
       "      <th>GICS_subindustry</th>\n",
       "    </tr>\n",
       "  </thead>\n",
       "  <tbody>\n",
       "    <tr>\n",
       "      <th>0</th>\n",
       "      <td>001013</td>\n",
       "      <td>Adc Telecommunications Inc</td>\n",
       "      <td>3661</td>\n",
       "      <td>334210</td>\n",
       "      <td>4520</td>\n",
       "      <td>452010</td>\n",
       "      <td>45</td>\n",
       "      <td>45201020</td>\n",
       "    </tr>\n",
       "    <tr>\n",
       "      <th>1</th>\n",
       "      <td>001045</td>\n",
       "      <td>American Airlines Group Inc</td>\n",
       "      <td>4512</td>\n",
       "      <td>481111</td>\n",
       "      <td>2030</td>\n",
       "      <td>203020</td>\n",
       "      <td>20</td>\n",
       "      <td>20302010</td>\n",
       "    </tr>\n",
       "    <tr>\n",
       "      <th>2</th>\n",
       "      <td>001075</td>\n",
       "      <td>Pinnacle West Capital Corp</td>\n",
       "      <td>4911</td>\n",
       "      <td>2211</td>\n",
       "      <td>5510</td>\n",
       "      <td>551010</td>\n",
       "      <td>55</td>\n",
       "      <td>55101010</td>\n",
       "    </tr>\n",
       "  </tbody>\n",
       "</table>\n",
       "</div>"
      ],
      "text/plain": [
       "    gvkey                         name   SIC   NAICS GICS_group GICS_industry  \\\n",
       "0  001013   Adc Telecommunications Inc  3661  334210       4520        452010   \n",
       "1  001045  American Airlines Group Inc  4512  481111       2030        203020   \n",
       "2  001075   Pinnacle West Capital Corp  4911    2211       5510        551010   \n",
       "\n",
       "  GICS_sector GICS_subindustry  \n",
       "0          45         45201020  \n",
       "1          20         20302010  \n",
       "2          55         55101010  "
      ]
     },
     "execution_count": 3,
     "metadata": {},
     "output_type": "execute_result"
    }
   ],
   "source": [
    "wrds.add_names()\n",
    "wrds.dataset['name'] = wrds.dataset['name'].str.title()\n",
    "\n",
    "wrds.add_industry_classifiers(get_gics=True)\n",
    "\n",
    "wrds.head(3)"
   ]
  },
  {
   "cell_type": "markdown",
   "metadata": {},
   "source": [
    "### 1.2.1 Filter by industry"
   ]
  },
  {
   "cell_type": "markdown",
   "metadata": {},
   "source": [
    "We use the GICS industry classification system to filter. For an overview, see https://en.wikipedia.org/wiki/Global_Industry_Classification_Standard . Industry Group 2550 is Retailing."
   ]
  },
  {
   "cell_type": "code",
   "execution_count": 4,
   "metadata": {},
   "outputs": [],
   "source": [
    "wrds.filter_by_industry(industry_code='2550', classification_system='GICS_group')"
   ]
  },
  {
   "cell_type": "code",
   "execution_count": 5,
   "metadata": {
    "scrolled": false
   },
   "outputs": [
    {
     "name": "stdout",
     "output_type": "stream",
     "text": [
      "Number of observations:  49 \n",
      "\n",
      "----------------\n",
      "\n",
      "0                Best Buy Co Inc\n",
      "1                  Officemax Inc\n",
      "2        Circuit City Stores Inc\n",
      "3                    Target Corp\n",
      "4            Dillards Inc  -Cl A\n",
      "5            Dollar General Corp\n",
      "6           Family Dollar Stores\n",
      "7                     Macy'S Inc\n",
      "8                        Gap Inc\n",
      "9               Genuine Parts Co\n",
      "10                Home Depot Inc\n",
      "11           Sears Holdings Corp\n",
      "12                  L Brands Inc\n",
      "13          Lowe'S Companies Inc\n",
      "14      May Department Stores Co\n",
      "15                 Nordstrom Inc\n",
      "16               Penney (J C) Co\n",
      "17     Pep Boys-Manny Moe & Jack\n",
      "18                Autonation Inc\n",
      "19               Ross Stores Inc\n",
      "20            Sears Roebuck & Co\n",
      "21                Rs Legacy Corp\n",
      "22                 Toys R Us Inc\n",
      "23               Foot Locker Inc\n",
      "24             Tjx Companies Inc\n",
      "25                  Big Lots Inc\n",
      "26                  Tiffany & Co\n",
      "27              Office Depot Inc\n",
      "28           Signet Jewelers Ltd\n",
      "29                   Staples Inc\n",
      "30                  Autozone Inc\n",
      "31                   Kohl'S Corp\n",
      "32         Bed Bath & Beyond Inc\n",
      "33       O'Reilly Automotive Inc\n",
      "34                  Petsmart Inc\n",
      "35          Urban Outfitters Inc\n",
      "36             Tractor Supply Co\n",
      "37               Dollar Tree Inc\n",
      "38    Abercrombie & Fitch  -Cl A\n",
      "39                    Carmax Inc\n",
      "40                Amazon.Com Inc\n",
      "41          Booking Holdings Inc\n",
      "42             Expedia Group Inc\n",
      "43                 Gamestop Corp\n",
      "44        Advance Auto Parts Inc\n",
      "45                   Netflix Inc\n",
      "46                      Lkq Corp\n",
      "47               Ulta Beauty Inc\n",
      "48               Tripadvisor Inc\n",
      "Name: name, dtype: object\n"
     ]
    },
    {
     "data": {
      "text/html": [
       "<div>\n",
       "<style scoped>\n",
       "    .dataframe tbody tr th:only-of-type {\n",
       "        vertical-align: middle;\n",
       "    }\n",
       "\n",
       "    .dataframe tbody tr th {\n",
       "        vertical-align: top;\n",
       "    }\n",
       "\n",
       "    .dataframe thead th {\n",
       "        text-align: right;\n",
       "    }\n",
       "</style>\n",
       "<table border=\"1\" class=\"dataframe\">\n",
       "  <thead>\n",
       "    <tr style=\"text-align: right;\">\n",
       "      <th></th>\n",
       "      <th>gvkey</th>\n",
       "      <th>name</th>\n",
       "      <th>SIC</th>\n",
       "      <th>NAICS</th>\n",
       "      <th>GICS_group</th>\n",
       "      <th>GICS_industry</th>\n",
       "      <th>GICS_sector</th>\n",
       "      <th>GICS_subindustry</th>\n",
       "    </tr>\n",
       "  </thead>\n",
       "  <tbody>\n",
       "    <tr>\n",
       "      <th>0</th>\n",
       "      <td>002184</td>\n",
       "      <td>Best Buy Co Inc</td>\n",
       "      <td>5731</td>\n",
       "      <td>443142</td>\n",
       "      <td>2550</td>\n",
       "      <td>255040</td>\n",
       "      <td>25</td>\n",
       "      <td>25504020</td>\n",
       "    </tr>\n",
       "    <tr>\n",
       "      <th>1</th>\n",
       "      <td>002290</td>\n",
       "      <td>Officemax Inc</td>\n",
       "      <td>5110</td>\n",
       "      <td>424120</td>\n",
       "      <td>2550</td>\n",
       "      <td>255040</td>\n",
       "      <td>25</td>\n",
       "      <td>25504040</td>\n",
       "    </tr>\n",
       "    <tr>\n",
       "      <th>2</th>\n",
       "      <td>003054</td>\n",
       "      <td>Circuit City Stores Inc</td>\n",
       "      <td>5731</td>\n",
       "      <td>443112</td>\n",
       "      <td>2550</td>\n",
       "      <td>255040</td>\n",
       "      <td>25</td>\n",
       "      <td>25504020</td>\n",
       "    </tr>\n",
       "    <tr>\n",
       "      <th>3</th>\n",
       "      <td>003813</td>\n",
       "      <td>Target Corp</td>\n",
       "      <td>5331</td>\n",
       "      <td>452990</td>\n",
       "      <td>2550</td>\n",
       "      <td>255030</td>\n",
       "      <td>25</td>\n",
       "      <td>25503020</td>\n",
       "    </tr>\n",
       "    <tr>\n",
       "      <th>4</th>\n",
       "      <td>003964</td>\n",
       "      <td>Dillards Inc  -Cl A</td>\n",
       "      <td>5311</td>\n",
       "      <td>452111</td>\n",
       "      <td>2550</td>\n",
       "      <td>255030</td>\n",
       "      <td>25</td>\n",
       "      <td>25503010</td>\n",
       "    </tr>\n",
       "  </tbody>\n",
       "</table>\n",
       "</div>"
      ],
      "text/plain": [
       "    gvkey                     name   SIC   NAICS GICS_group GICS_industry  \\\n",
       "0  002184          Best Buy Co Inc  5731  443142       2550        255040   \n",
       "1  002290            Officemax Inc  5110  424120       2550        255040   \n",
       "2  003054  Circuit City Stores Inc  5731  443112       2550        255040   \n",
       "3  003813              Target Corp  5331  452990       2550        255030   \n",
       "4  003964      Dillards Inc  -Cl A  5311  452111       2550        255030   \n",
       "\n",
       "  GICS_sector GICS_subindustry  \n",
       "0          25         25504020  \n",
       "1          25         25504040  \n",
       "2          25         25504020  \n",
       "3          25         25503020  \n",
       "4          25         25503010  "
      ]
     },
     "execution_count": 5,
     "metadata": {},
     "output_type": "execute_result"
    }
   ],
   "source": [
    "print('Number of observations: ', len(wrds.dataset),\n",
    "      '\\n\\n----------------\\n')\n",
    "print(wrds.dataset['name'])\n",
    "wrds.dataset.head()"
   ]
  },
  {
   "cell_type": "markdown",
   "metadata": {},
   "source": [
    "### 1.2.2 Filter out Internet & Direct Marketing Retail"
   ]
  },
  {
   "cell_type": "markdown",
   "metadata": {},
   "source": [
    "Internet & Direct Marketing Retail is the GICS Sub-Industry 25502020."
   ]
  },
  {
   "cell_type": "code",
   "execution_count": 6,
   "metadata": {},
   "outputs": [
    {
     "data": {
      "text/html": [
       "<div>\n",
       "<style scoped>\n",
       "    .dataframe tbody tr th:only-of-type {\n",
       "        vertical-align: middle;\n",
       "    }\n",
       "\n",
       "    .dataframe tbody tr th {\n",
       "        vertical-align: top;\n",
       "    }\n",
       "\n",
       "    .dataframe thead th {\n",
       "        text-align: right;\n",
       "    }\n",
       "</style>\n",
       "<table border=\"1\" class=\"dataframe\">\n",
       "  <thead>\n",
       "    <tr style=\"text-align: right;\">\n",
       "      <th></th>\n",
       "      <th>gvkey</th>\n",
       "      <th>name</th>\n",
       "      <th>SIC</th>\n",
       "      <th>NAICS</th>\n",
       "      <th>GICS_group</th>\n",
       "      <th>GICS_industry</th>\n",
       "      <th>GICS_sector</th>\n",
       "      <th>GICS_subindustry</th>\n",
       "    </tr>\n",
       "  </thead>\n",
       "  <tbody>\n",
       "    <tr>\n",
       "      <th>40</th>\n",
       "      <td>064768</td>\n",
       "      <td>Amazon.Com Inc</td>\n",
       "      <td>5961</td>\n",
       "      <td>454111</td>\n",
       "      <td>2550</td>\n",
       "      <td>255020</td>\n",
       "      <td>25</td>\n",
       "      <td>25502020</td>\n",
       "    </tr>\n",
       "    <tr>\n",
       "      <th>41</th>\n",
       "      <td>119314</td>\n",
       "      <td>Booking Holdings Inc</td>\n",
       "      <td>7370</td>\n",
       "      <td>519130</td>\n",
       "      <td>2550</td>\n",
       "      <td>255020</td>\n",
       "      <td>25</td>\n",
       "      <td>25502020</td>\n",
       "    </tr>\n",
       "    <tr>\n",
       "      <th>42</th>\n",
       "      <td>126296</td>\n",
       "      <td>Expedia Group Inc</td>\n",
       "      <td>4700</td>\n",
       "      <td>561510</td>\n",
       "      <td>2550</td>\n",
       "      <td>255020</td>\n",
       "      <td>25</td>\n",
       "      <td>25502020</td>\n",
       "    </tr>\n",
       "    <tr>\n",
       "      <th>45</th>\n",
       "      <td>147579</td>\n",
       "      <td>Netflix Inc</td>\n",
       "      <td>7841</td>\n",
       "      <td>532230</td>\n",
       "      <td>2550</td>\n",
       "      <td>255020</td>\n",
       "      <td>25</td>\n",
       "      <td>25502020</td>\n",
       "    </tr>\n",
       "    <tr>\n",
       "      <th>48</th>\n",
       "      <td>199356</td>\n",
       "      <td>Tripadvisor Inc</td>\n",
       "      <td>7370</td>\n",
       "      <td>519130</td>\n",
       "      <td>2550</td>\n",
       "      <td>255020</td>\n",
       "      <td>25</td>\n",
       "      <td>25502020</td>\n",
       "    </tr>\n",
       "  </tbody>\n",
       "</table>\n",
       "</div>"
      ],
      "text/plain": [
       "     gvkey                  name   SIC   NAICS GICS_group GICS_industry  \\\n",
       "40  064768        Amazon.Com Inc  5961  454111       2550        255020   \n",
       "41  119314  Booking Holdings Inc  7370  519130       2550        255020   \n",
       "42  126296     Expedia Group Inc  4700  561510       2550        255020   \n",
       "45  147579           Netflix Inc  7841  532230       2550        255020   \n",
       "48  199356       Tripadvisor Inc  7370  519130       2550        255020   \n",
       "\n",
       "   GICS_sector GICS_subindustry  \n",
       "40          25         25502020  \n",
       "41          25         25502020  \n",
       "42          25         25502020  \n",
       "45          25         25502020  \n",
       "48          25         25502020  "
      ]
     },
     "execution_count": 6,
     "metadata": {},
     "output_type": "execute_result"
    }
   ],
   "source": [
    "wrds.dataset[wrds.dataset['GICS_subindustry'] == '25502020']"
   ]
  },
  {
   "cell_type": "code",
   "execution_count": 7,
   "metadata": {},
   "outputs": [
    {
     "data": {
      "text/html": [
       "<div>\n",
       "<style scoped>\n",
       "    .dataframe tbody tr th:only-of-type {\n",
       "        vertical-align: middle;\n",
       "    }\n",
       "\n",
       "    .dataframe tbody tr th {\n",
       "        vertical-align: top;\n",
       "    }\n",
       "\n",
       "    .dataframe thead th {\n",
       "        text-align: right;\n",
       "    }\n",
       "</style>\n",
       "<table border=\"1\" class=\"dataframe\">\n",
       "  <thead>\n",
       "    <tr style=\"text-align: right;\">\n",
       "      <th></th>\n",
       "      <th>gvkey</th>\n",
       "      <th>name</th>\n",
       "      <th>SIC</th>\n",
       "      <th>NAICS</th>\n",
       "      <th>GICS_group</th>\n",
       "      <th>GICS_industry</th>\n",
       "      <th>GICS_sector</th>\n",
       "      <th>GICS_subindustry</th>\n",
       "    </tr>\n",
       "  </thead>\n",
       "  <tbody>\n",
       "    <tr>\n",
       "      <th>0</th>\n",
       "      <td>002184</td>\n",
       "      <td>Best Buy Co Inc</td>\n",
       "      <td>5731</td>\n",
       "      <td>443142</td>\n",
       "      <td>2550</td>\n",
       "      <td>255040</td>\n",
       "      <td>25</td>\n",
       "      <td>25504020</td>\n",
       "    </tr>\n",
       "    <tr>\n",
       "      <th>1</th>\n",
       "      <td>002290</td>\n",
       "      <td>Officemax Inc</td>\n",
       "      <td>5110</td>\n",
       "      <td>424120</td>\n",
       "      <td>2550</td>\n",
       "      <td>255040</td>\n",
       "      <td>25</td>\n",
       "      <td>25504040</td>\n",
       "    </tr>\n",
       "    <tr>\n",
       "      <th>2</th>\n",
       "      <td>003054</td>\n",
       "      <td>Circuit City Stores Inc</td>\n",
       "      <td>5731</td>\n",
       "      <td>443112</td>\n",
       "      <td>2550</td>\n",
       "      <td>255040</td>\n",
       "      <td>25</td>\n",
       "      <td>25504020</td>\n",
       "    </tr>\n",
       "  </tbody>\n",
       "</table>\n",
       "</div>"
      ],
      "text/plain": [
       "    gvkey                     name   SIC   NAICS GICS_group GICS_industry  \\\n",
       "0  002184          Best Buy Co Inc  5731  443142       2550        255040   \n",
       "1  002290            Officemax Inc  5110  424120       2550        255040   \n",
       "2  003054  Circuit City Stores Inc  5731  443112       2550        255040   \n",
       "\n",
       "  GICS_sector GICS_subindustry  \n",
       "0          25         25504020  \n",
       "1          25         25504040  \n",
       "2          25         25504020  "
      ]
     },
     "execution_count": 7,
     "metadata": {},
     "output_type": "execute_result"
    }
   ],
   "source": [
    "wrds.dataset = wrds.dataset[wrds.dataset['GICS_subindustry'] != '25502020']\n",
    "wrds.dataset = wrds.dataset.reset_index(drop=True)\n",
    "wrds.dataset.head(3)"
   ]
  },
  {
   "cell_type": "markdown",
   "metadata": {},
   "source": [
    "## 1.3 Add executives data"
   ]
  },
  {
   "cell_type": "markdown",
   "metadata": {},
   "source": [
    "Set observation period."
   ]
  },
  {
   "cell_type": "code",
   "execution_count": 8,
   "metadata": {},
   "outputs": [],
   "source": [
    "wrds.set_observation_period(start_date=date(year=2009, month=1, day=1), \n",
    "                            end_date=date(year=2018, month=12, day=31))"
   ]
  },
  {
   "cell_type": "code",
   "execution_count": 9,
   "metadata": {},
   "outputs": [
    {
     "data": {
      "text/html": [
       "<div>\n",
       "<style scoped>\n",
       "    .dataframe tbody tr th:only-of-type {\n",
       "        vertical-align: middle;\n",
       "    }\n",
       "\n",
       "    .dataframe tbody tr th {\n",
       "        vertical-align: top;\n",
       "    }\n",
       "\n",
       "    .dataframe thead th {\n",
       "        text-align: right;\n",
       "    }\n",
       "</style>\n",
       "<table border=\"1\" class=\"dataframe\">\n",
       "  <thead>\n",
       "    <tr style=\"text-align: right;\">\n",
       "      <th></th>\n",
       "      <th>gvkey</th>\n",
       "      <th>name</th>\n",
       "      <th>SIC</th>\n",
       "      <th>NAICS</th>\n",
       "      <th>GICS_group</th>\n",
       "      <th>GICS_industry</th>\n",
       "      <th>GICS_sector</th>\n",
       "      <th>GICS_subindustry</th>\n",
       "      <th>execid</th>\n",
       "      <th>year</th>\n",
       "    </tr>\n",
       "  </thead>\n",
       "  <tbody>\n",
       "    <tr>\n",
       "      <th>0</th>\n",
       "      <td>002184</td>\n",
       "      <td>Best Buy Co Inc</td>\n",
       "      <td>5731</td>\n",
       "      <td>443142</td>\n",
       "      <td>2550</td>\n",
       "      <td>255040</td>\n",
       "      <td>25</td>\n",
       "      <td>25504020</td>\n",
       "      <td>06175</td>\n",
       "      <td>2009</td>\n",
       "    </tr>\n",
       "    <tr>\n",
       "      <th>1</th>\n",
       "      <td>002184</td>\n",
       "      <td>Best Buy Co Inc</td>\n",
       "      <td>5731</td>\n",
       "      <td>443142</td>\n",
       "      <td>2550</td>\n",
       "      <td>255040</td>\n",
       "      <td>25</td>\n",
       "      <td>25504020</td>\n",
       "      <td>28397</td>\n",
       "      <td>2009</td>\n",
       "    </tr>\n",
       "    <tr>\n",
       "      <th>2</th>\n",
       "      <td>002184</td>\n",
       "      <td>Best Buy Co Inc</td>\n",
       "      <td>5731</td>\n",
       "      <td>443142</td>\n",
       "      <td>2550</td>\n",
       "      <td>255040</td>\n",
       "      <td>25</td>\n",
       "      <td>25504020</td>\n",
       "      <td>28397</td>\n",
       "      <td>2010</td>\n",
       "    </tr>\n",
       "    <tr>\n",
       "      <th>3</th>\n",
       "      <td>002184</td>\n",
       "      <td>Best Buy Co Inc</td>\n",
       "      <td>5731</td>\n",
       "      <td>443142</td>\n",
       "      <td>2550</td>\n",
       "      <td>255040</td>\n",
       "      <td>25</td>\n",
       "      <td>25504020</td>\n",
       "      <td>28397</td>\n",
       "      <td>2011</td>\n",
       "    </tr>\n",
       "    <tr>\n",
       "      <th>4</th>\n",
       "      <td>002184</td>\n",
       "      <td>Best Buy Co Inc</td>\n",
       "      <td>5731</td>\n",
       "      <td>443142</td>\n",
       "      <td>2550</td>\n",
       "      <td>255040</td>\n",
       "      <td>25</td>\n",
       "      <td>25504020</td>\n",
       "      <td>28397</td>\n",
       "      <td>2012</td>\n",
       "    </tr>\n",
       "  </tbody>\n",
       "</table>\n",
       "</div>"
      ],
      "text/plain": [
       "    gvkey             name   SIC   NAICS GICS_group GICS_industry GICS_sector  \\\n",
       "0  002184  Best Buy Co Inc  5731  443142       2550        255040          25   \n",
       "1  002184  Best Buy Co Inc  5731  443142       2550        255040          25   \n",
       "2  002184  Best Buy Co Inc  5731  443142       2550        255040          25   \n",
       "3  002184  Best Buy Co Inc  5731  443142       2550        255040          25   \n",
       "4  002184  Best Buy Co Inc  5731  443142       2550        255040          25   \n",
       "\n",
       "  GICS_subindustry execid  year  \n",
       "0         25504020  06175  2009  \n",
       "1         25504020  28397  2009  \n",
       "2         25504020  28397  2010  \n",
       "3         25504020  28397  2011  \n",
       "4         25504020  28397  2012  "
      ]
     },
     "execution_count": 9,
     "metadata": {},
     "output_type": "execute_result"
    }
   ],
   "source": [
    "wrds.add_executives()\n",
    "\n",
    "wrds.head()"
   ]
  },
  {
   "cell_type": "code",
   "execution_count": 10,
   "metadata": {},
   "outputs": [
    {
     "data": {
      "text/plain": [
       "521"
      ]
     },
     "execution_count": 10,
     "metadata": {},
     "output_type": "execute_result"
    }
   ],
   "source": [
    "len(wrds.dataset.execid.unique())"
   ]
  },
  {
   "cell_type": "markdown",
   "metadata": {},
   "source": [
    "## 1.4 Output dataframe as .feather"
   ]
  },
  {
   "cell_type": "markdown",
   "metadata": {},
   "source": [
    "The .feather format allows us to further manipulate the dataframe in R without having to specify column types again."
   ]
  },
  {
   "cell_type": "code",
   "execution_count": 11,
   "metadata": {},
   "outputs": [],
   "source": [
    "selection = wrds.return_dataframe()"
   ]
  },
  {
   "cell_type": "markdown",
   "metadata": {},
   "source": [
    "We transform the year column to datatype 'object' (character strings) because feather cannot handle pandas 'Int64' datatype yet."
   ]
  },
  {
   "cell_type": "code",
   "execution_count": 12,
   "metadata": {},
   "outputs": [],
   "source": [
    "selection['year'] = selection['year'].astype('object')"
   ]
  },
  {
   "cell_type": "code",
   "execution_count": 13,
   "metadata": {},
   "outputs": [],
   "source": [
    "from datetime import date\n",
    "\n",
    "selection.to_feather('sample {}.feather'.format(str(date.today())))"
   ]
  }
 ],
 "metadata": {
  "kernelspec": {
   "display_name": "corporate_disruptions",
   "language": "python",
   "name": "corporate_disruptions"
  },
  "language_info": {
   "codemirror_mode": {
    "name": "ipython",
    "version": 3
   },
   "file_extension": ".py",
   "mimetype": "text/x-python",
   "name": "python",
   "nbconvert_exporter": "python",
   "pygments_lexer": "ipython3",
   "version": "3.6.7"
  },
  "varInspector": {
   "cols": {
    "lenName": 16,
    "lenType": 16,
    "lenVar": 40
   },
   "kernels_config": {
    "python": {
     "delete_cmd_postfix": "",
     "delete_cmd_prefix": "del ",
     "library": "var_list.py",
     "varRefreshCmd": "print(var_dic_list())"
    },
    "r": {
     "delete_cmd_postfix": ") ",
     "delete_cmd_prefix": "rm(",
     "library": "var_list.r",
     "varRefreshCmd": "cat(var_dic_list()) "
    }
   },
   "types_to_exclude": [
    "module",
    "function",
    "builtin_function_or_method",
    "instance",
    "_Feature"
   ],
   "window_display": false
  }
 },
 "nbformat": 4,
 "nbformat_minor": 1
}
