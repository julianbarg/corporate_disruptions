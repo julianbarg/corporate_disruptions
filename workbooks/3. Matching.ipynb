{
 "cells": [
  {
   "cell_type": "markdown",
   "metadata": {},
   "source": [
    "# 3. Matching"
   ]
  },
  {
   "cell_type": "markdown",
   "metadata": {},
   "source": [
    "## 3.1 Import data"
   ]
  },
  {
   "cell_type": "code",
   "execution_count": 1,
   "metadata": {
    "scrolled": true
   },
   "outputs": [
    {
     "name": "stdout",
     "output_type": "stream",
     "text": [
      "/home/julian/PycharmProjects/corporate_disruptions\n"
     ]
    }
   ],
   "source": [
    "cd .."
   ]
  },
  {
   "cell_type": "code",
   "execution_count": 2,
   "metadata": {},
   "outputs": [],
   "source": [
    "import parameters"
   ]
  },
  {
   "cell_type": "code",
   "execution_count": 3,
   "metadata": {},
   "outputs": [],
   "source": [
    "import matplotlib.pyplot as plt"
   ]
  },
  {
   "cell_type": "markdown",
   "metadata": {},
   "source": [
    "### 3.1.1 Import sample"
   ]
  },
  {
   "cell_type": "code",
   "execution_count": 4,
   "metadata": {},
   "outputs": [],
   "source": [
    "import pandas as pd\n",
    "\n",
    "sample = pd.read_feather(parameters.sample)"
   ]
  },
  {
   "cell_type": "code",
   "execution_count": 5,
   "metadata": {},
   "outputs": [
    {
     "data": {
      "text/html": [
       "<div>\n",
       "<style scoped>\n",
       "    .dataframe tbody tr th:only-of-type {\n",
       "        vertical-align: middle;\n",
       "    }\n",
       "\n",
       "    .dataframe tbody tr th {\n",
       "        vertical-align: top;\n",
       "    }\n",
       "\n",
       "    .dataframe thead th {\n",
       "        text-align: right;\n",
       "    }\n",
       "</style>\n",
       "<table border=\"1\" class=\"dataframe\">\n",
       "  <thead>\n",
       "    <tr style=\"text-align: right;\">\n",
       "      <th></th>\n",
       "      <th>gvkey</th>\n",
       "      <th>name</th>\n",
       "      <th>SIC</th>\n",
       "      <th>NAICS</th>\n",
       "      <th>GICS_group</th>\n",
       "      <th>GICS_industry</th>\n",
       "      <th>GICS_sector</th>\n",
       "      <th>GICS_subindustry</th>\n",
       "      <th>execid</th>\n",
       "      <th>year</th>\n",
       "    </tr>\n",
       "  </thead>\n",
       "  <tbody>\n",
       "    <tr>\n",
       "      <th>0</th>\n",
       "      <td>002184</td>\n",
       "      <td>Best Buy Co Inc</td>\n",
       "      <td>5731</td>\n",
       "      <td>443142</td>\n",
       "      <td>2550</td>\n",
       "      <td>255040</td>\n",
       "      <td>25</td>\n",
       "      <td>25504020</td>\n",
       "      <td>06175</td>\n",
       "      <td>2009.0</td>\n",
       "    </tr>\n",
       "    <tr>\n",
       "      <th>1</th>\n",
       "      <td>002184</td>\n",
       "      <td>Best Buy Co Inc</td>\n",
       "      <td>5731</td>\n",
       "      <td>443142</td>\n",
       "      <td>2550</td>\n",
       "      <td>255040</td>\n",
       "      <td>25</td>\n",
       "      <td>25504020</td>\n",
       "      <td>28397</td>\n",
       "      <td>2009.0</td>\n",
       "    </tr>\n",
       "    <tr>\n",
       "      <th>2</th>\n",
       "      <td>002184</td>\n",
       "      <td>Best Buy Co Inc</td>\n",
       "      <td>5731</td>\n",
       "      <td>443142</td>\n",
       "      <td>2550</td>\n",
       "      <td>255040</td>\n",
       "      <td>25</td>\n",
       "      <td>25504020</td>\n",
       "      <td>28397</td>\n",
       "      <td>2010.0</td>\n",
       "    </tr>\n",
       "    <tr>\n",
       "      <th>3</th>\n",
       "      <td>002184</td>\n",
       "      <td>Best Buy Co Inc</td>\n",
       "      <td>5731</td>\n",
       "      <td>443142</td>\n",
       "      <td>2550</td>\n",
       "      <td>255040</td>\n",
       "      <td>25</td>\n",
       "      <td>25504020</td>\n",
       "      <td>28397</td>\n",
       "      <td>2011.0</td>\n",
       "    </tr>\n",
       "    <tr>\n",
       "      <th>4</th>\n",
       "      <td>002184</td>\n",
       "      <td>Best Buy Co Inc</td>\n",
       "      <td>5731</td>\n",
       "      <td>443142</td>\n",
       "      <td>2550</td>\n",
       "      <td>255040</td>\n",
       "      <td>25</td>\n",
       "      <td>25504020</td>\n",
       "      <td>28397</td>\n",
       "      <td>2012.0</td>\n",
       "    </tr>\n",
       "  </tbody>\n",
       "</table>\n",
       "</div>"
      ],
      "text/plain": [
       "    gvkey             name   SIC   NAICS GICS_group GICS_industry GICS_sector  \\\n",
       "0  002184  Best Buy Co Inc  5731  443142       2550        255040          25   \n",
       "1  002184  Best Buy Co Inc  5731  443142       2550        255040          25   \n",
       "2  002184  Best Buy Co Inc  5731  443142       2550        255040          25   \n",
       "3  002184  Best Buy Co Inc  5731  443142       2550        255040          25   \n",
       "4  002184  Best Buy Co Inc  5731  443142       2550        255040          25   \n",
       "\n",
       "  GICS_subindustry execid    year  \n",
       "0         25504020  06175  2009.0  \n",
       "1         25504020  28397  2009.0  \n",
       "2         25504020  28397  2010.0  \n",
       "3         25504020  28397  2011.0  \n",
       "4         25504020  28397  2012.0  "
      ]
     },
     "execution_count": 5,
     "metadata": {},
     "output_type": "execute_result"
    }
   ],
   "source": [
    "sample.head()"
   ]
  },
  {
   "cell_type": "markdown",
   "metadata": {},
   "source": [
    "### 3.1.2 Import recalls"
   ]
  },
  {
   "cell_type": "code",
   "execution_count": 6,
   "metadata": {},
   "outputs": [
    {
     "data": {
      "text/html": [
       "<div>\n",
       "<style scoped>\n",
       "    .dataframe tbody tr th:only-of-type {\n",
       "        vertical-align: middle;\n",
       "    }\n",
       "\n",
       "    .dataframe tbody tr th {\n",
       "        vertical-align: top;\n",
       "    }\n",
       "\n",
       "    .dataframe thead th {\n",
       "        text-align: right;\n",
       "    }\n",
       "</style>\n",
       "<table border=\"1\" class=\"dataframe\">\n",
       "  <thead>\n",
       "    <tr style=\"text-align: right;\">\n",
       "      <th></th>\n",
       "      <th>country</th>\n",
       "      <th>date</th>\n",
       "      <th>description</th>\n",
       "      <th>hazard</th>\n",
       "      <th>importer</th>\n",
       "      <th>incidents</th>\n",
       "      <th>link</th>\n",
       "      <th>name</th>\n",
       "      <th>remedy</th>\n",
       "      <th>retailer</th>\n",
       "      <th>units</th>\n",
       "    </tr>\n",
       "  </thead>\n",
       "  <tbody>\n",
       "    <tr>\n",
       "      <th>0</th>\n",
       "      <td>China</td>\n",
       "      <td>March 14, 2019</td>\n",
       "      <td>This recall involves Mobile Warming Performanc...</td>\n",
       "      <td>The lithium-ion battery can overheat, melt or ...</td>\n",
       "      <td>Tech Gear 5.7, Inc., of San Marcos, Calif.</td>\n",
       "      <td>Tech Gear 5.7 has received four reports of bat...</td>\n",
       "      <td>https://cpsc.gov/Recalls/2019/Tech-Gear-5-7-Re...</td>\n",
       "      <td>Mobile Warming Performance Heated Socks</td>\n",
       "      <td>Refund</td>\n",
       "      <td>\\r\\n</td>\n",
       "      <td>4,000</td>\n",
       "    </tr>\n",
       "    <tr>\n",
       "      <th>1</th>\n",
       "      <td>China</td>\n",
       "      <td>March 12, 2019</td>\n",
       "      <td>The recall expansion involves lithium-ion batt...</td>\n",
       "      <td>The lithium-ion batteries can overheat, posing...</td>\n",
       "      <td>HP Inc., of Palo Alto, Calif.</td>\n",
       "      <td>HP has received eight new reports of battery p...</td>\n",
       "      <td>https://cpsc.gov/Recalls/2019/HP-Expands-Recal...</td>\n",
       "      <td>Lithium-ion batteries for HP commercial notebo...</td>\n",
       "      <td>Replace</td>\n",
       "      <td>HP and authorized dealers nationwide and onlin...</td>\n",
       "      <td>About 78,500 (In addition 50,000 were previous...</td>\n",
       "    </tr>\n",
       "    <tr>\n",
       "      <th>2</th>\n",
       "      <td>Taiwan and China</td>\n",
       "      <td>March 14, 2019</td>\n",
       "      <td>This recall involves O’Brien Performer Pro Com...</td>\n",
       "      <td>The skis can detach from the binding during a ...</td>\n",
       "      <td>O’Brien Watersports Inc., of Snoqualmie, Wash.</td>\n",
       "      <td>O’Brien Watersports has received three reports...</td>\n",
       "      <td>https://cpsc.gov/Recalls/2019/OBrien-Waterspor...</td>\n",
       "      <td>Performer Pro Combo water skis</td>\n",
       "      <td>Refund</td>\n",
       "      <td>\\r\\n</td>\n",
       "      <td>About 3,560 (in addition, about 700 were sold ...</td>\n",
       "    </tr>\n",
       "  </tbody>\n",
       "</table>\n",
       "</div>"
      ],
      "text/plain": [
       "            country            date  \\\n",
       "0             China  March 14, 2019   \n",
       "1             China  March 12, 2019   \n",
       "2  Taiwan and China  March 14, 2019   \n",
       "\n",
       "                                         description  \\\n",
       "0  This recall involves Mobile Warming Performanc...   \n",
       "1  The recall expansion involves lithium-ion batt...   \n",
       "2  This recall involves O’Brien Performer Pro Com...   \n",
       "\n",
       "                                              hazard  \\\n",
       "0  The lithium-ion battery can overheat, melt or ...   \n",
       "1  The lithium-ion batteries can overheat, posing...   \n",
       "2  The skis can detach from the binding during a ...   \n",
       "\n",
       "                                         importer  \\\n",
       "0      Tech Gear 5.7, Inc., of San Marcos, Calif.   \n",
       "1                   HP Inc., of Palo Alto, Calif.   \n",
       "2  O’Brien Watersports Inc., of Snoqualmie, Wash.   \n",
       "\n",
       "                                           incidents  \\\n",
       "0  Tech Gear 5.7 has received four reports of bat...   \n",
       "1  HP has received eight new reports of battery p...   \n",
       "2  O’Brien Watersports has received three reports...   \n",
       "\n",
       "                                                link  \\\n",
       "0  https://cpsc.gov/Recalls/2019/Tech-Gear-5-7-Re...   \n",
       "1  https://cpsc.gov/Recalls/2019/HP-Expands-Recal...   \n",
       "2  https://cpsc.gov/Recalls/2019/OBrien-Waterspor...   \n",
       "\n",
       "                                                name   remedy  \\\n",
       "0            Mobile Warming Performance Heated Socks   Refund   \n",
       "1  Lithium-ion batteries for HP commercial notebo...  Replace   \n",
       "2                     Performer Pro Combo water skis   Refund   \n",
       "\n",
       "                                            retailer  \\\n",
       "0                                               \\r\\n   \n",
       "1  HP and authorized dealers nationwide and onlin...   \n",
       "2                                               \\r\\n   \n",
       "\n",
       "                                               units  \n",
       "0                                              4,000  \n",
       "1  About 78,500 (In addition 50,000 were previous...  \n",
       "2  About 3,560 (in addition, about 700 were sold ...  "
      ]
     },
     "execution_count": 6,
     "metadata": {},
     "output_type": "execute_result"
    }
   ],
   "source": [
    "recalls = pd.read_csv(parameters.recalls)\n",
    "recalls.head(3)"
   ]
  },
  {
   "cell_type": "markdown",
   "metadata": {},
   "source": [
    "Make sure data is a date column."
   ]
  },
  {
   "cell_type": "code",
   "execution_count": 7,
   "metadata": {},
   "outputs": [],
   "source": [
    "recalls['date'] = pd.to_datetime(recalls['date'])"
   ]
  },
  {
   "cell_type": "code",
   "execution_count": 8,
   "metadata": {},
   "outputs": [
    {
     "data": {
      "text/html": [
       "<div>\n",
       "<style scoped>\n",
       "    .dataframe tbody tr th:only-of-type {\n",
       "        vertical-align: middle;\n",
       "    }\n",
       "\n",
       "    .dataframe tbody tr th {\n",
       "        vertical-align: top;\n",
       "    }\n",
       "\n",
       "    .dataframe thead th {\n",
       "        text-align: right;\n",
       "    }\n",
       "</style>\n",
       "<table border=\"1\" class=\"dataframe\">\n",
       "  <thead>\n",
       "    <tr style=\"text-align: right;\">\n",
       "      <th></th>\n",
       "      <th>country</th>\n",
       "      <th>date</th>\n",
       "      <th>description</th>\n",
       "      <th>hazard</th>\n",
       "      <th>importer</th>\n",
       "      <th>incidents</th>\n",
       "      <th>link</th>\n",
       "      <th>name</th>\n",
       "      <th>remedy</th>\n",
       "      <th>retailer</th>\n",
       "      <th>units</th>\n",
       "    </tr>\n",
       "  </thead>\n",
       "  <tbody>\n",
       "    <tr>\n",
       "      <th>0</th>\n",
       "      <td>China</td>\n",
       "      <td>2019-03-14</td>\n",
       "      <td>This recall involves Mobile Warming Performanc...</td>\n",
       "      <td>The lithium-ion battery can overheat, melt or ...</td>\n",
       "      <td>Tech Gear 5.7, Inc., of San Marcos, Calif.</td>\n",
       "      <td>Tech Gear 5.7 has received four reports of bat...</td>\n",
       "      <td>https://cpsc.gov/Recalls/2019/Tech-Gear-5-7-Re...</td>\n",
       "      <td>Mobile Warming Performance Heated Socks</td>\n",
       "      <td>Refund</td>\n",
       "      <td>\\r\\n</td>\n",
       "      <td>4,000</td>\n",
       "    </tr>\n",
       "    <tr>\n",
       "      <th>1</th>\n",
       "      <td>China</td>\n",
       "      <td>2019-03-12</td>\n",
       "      <td>The recall expansion involves lithium-ion batt...</td>\n",
       "      <td>The lithium-ion batteries can overheat, posing...</td>\n",
       "      <td>HP Inc., of Palo Alto, Calif.</td>\n",
       "      <td>HP has received eight new reports of battery p...</td>\n",
       "      <td>https://cpsc.gov/Recalls/2019/HP-Expands-Recal...</td>\n",
       "      <td>Lithium-ion batteries for HP commercial notebo...</td>\n",
       "      <td>Replace</td>\n",
       "      <td>HP and authorized dealers nationwide and onlin...</td>\n",
       "      <td>About 78,500 (In addition 50,000 were previous...</td>\n",
       "    </tr>\n",
       "    <tr>\n",
       "      <th>2</th>\n",
       "      <td>Taiwan and China</td>\n",
       "      <td>2019-03-14</td>\n",
       "      <td>This recall involves O’Brien Performer Pro Com...</td>\n",
       "      <td>The skis can detach from the binding during a ...</td>\n",
       "      <td>O’Brien Watersports Inc., of Snoqualmie, Wash.</td>\n",
       "      <td>O’Brien Watersports has received three reports...</td>\n",
       "      <td>https://cpsc.gov/Recalls/2019/OBrien-Waterspor...</td>\n",
       "      <td>Performer Pro Combo water skis</td>\n",
       "      <td>Refund</td>\n",
       "      <td>\\r\\n</td>\n",
       "      <td>About 3,560 (in addition, about 700 were sold ...</td>\n",
       "    </tr>\n",
       "  </tbody>\n",
       "</table>\n",
       "</div>"
      ],
      "text/plain": [
       "            country       date  \\\n",
       "0             China 2019-03-14   \n",
       "1             China 2019-03-12   \n",
       "2  Taiwan and China 2019-03-14   \n",
       "\n",
       "                                         description  \\\n",
       "0  This recall involves Mobile Warming Performanc...   \n",
       "1  The recall expansion involves lithium-ion batt...   \n",
       "2  This recall involves O’Brien Performer Pro Com...   \n",
       "\n",
       "                                              hazard  \\\n",
       "0  The lithium-ion battery can overheat, melt or ...   \n",
       "1  The lithium-ion batteries can overheat, posing...   \n",
       "2  The skis can detach from the binding during a ...   \n",
       "\n",
       "                                         importer  \\\n",
       "0      Tech Gear 5.7, Inc., of San Marcos, Calif.   \n",
       "1                   HP Inc., of Palo Alto, Calif.   \n",
       "2  O’Brien Watersports Inc., of Snoqualmie, Wash.   \n",
       "\n",
       "                                           incidents  \\\n",
       "0  Tech Gear 5.7 has received four reports of bat...   \n",
       "1  HP has received eight new reports of battery p...   \n",
       "2  O’Brien Watersports has received three reports...   \n",
       "\n",
       "                                                link  \\\n",
       "0  https://cpsc.gov/Recalls/2019/Tech-Gear-5-7-Re...   \n",
       "1  https://cpsc.gov/Recalls/2019/HP-Expands-Recal...   \n",
       "2  https://cpsc.gov/Recalls/2019/OBrien-Waterspor...   \n",
       "\n",
       "                                                name   remedy  \\\n",
       "0            Mobile Warming Performance Heated Socks   Refund   \n",
       "1  Lithium-ion batteries for HP commercial notebo...  Replace   \n",
       "2                     Performer Pro Combo water skis   Refund   \n",
       "\n",
       "                                            retailer  \\\n",
       "0                                               \\r\\n   \n",
       "1  HP and authorized dealers nationwide and onlin...   \n",
       "2                                               \\r\\n   \n",
       "\n",
       "                                               units  \n",
       "0                                              4,000  \n",
       "1  About 78,500 (In addition 50,000 were previous...  \n",
       "2  About 3,560 (in addition, about 700 were sold ...  "
      ]
     },
     "execution_count": 8,
     "metadata": {},
     "output_type": "execute_result"
    }
   ],
   "source": [
    "recalls.head(3)"
   ]
  },
  {
   "cell_type": "markdown",
   "metadata": {},
   "source": [
    "## 3.2 Clean company names"
   ]
  },
  {
   "cell_type": "code",
   "execution_count": 9,
   "metadata": {},
   "outputs": [
    {
     "data": {
      "text/plain": [
       "array(['Best Buy Co Inc', 'Officemax Inc', 'Circuit City Stores Inc',\n",
       "       'Target Corp', 'Dillards Inc  -Cl A', 'Dollar General Corp',\n",
       "       'Family Dollar Stores', \"Macy'S Inc\", 'Gap Inc',\n",
       "       'Genuine Parts Co', 'Home Depot Inc', 'Sears Holdings Corp',\n",
       "       'L Brands Inc', \"Lowe'S Companies Inc\", 'May Department Stores Co',\n",
       "       'Nordstrom Inc', 'Penney (J C) Co', 'Pep Boys-Manny Moe & Jack',\n",
       "       'Autonation Inc', 'Ross Stores Inc', 'Sears Roebuck & Co',\n",
       "       'Rs Legacy Corp', 'Toys R Us Inc', 'Foot Locker Inc',\n",
       "       'Tjx Companies Inc', 'Big Lots Inc', 'Tiffany & Co',\n",
       "       'Office Depot Inc', 'Signet Jewelers Ltd', 'Staples Inc',\n",
       "       'Autozone Inc', \"Kohl'S Corp\", 'Bed Bath & Beyond Inc',\n",
       "       \"O'Reilly Automotive Inc\", 'Petsmart Inc', 'Urban Outfitters Inc',\n",
       "       'Tractor Supply Co', 'Dollar Tree Inc',\n",
       "       'Abercrombie & Fitch  -Cl A', 'Carmax Inc', 'Gamestop Corp',\n",
       "       'Advance Auto Parts Inc', 'Lkq Corp', 'Ulta Beauty Inc'],\n",
       "      dtype=object)"
      ]
     },
     "execution_count": 9,
     "metadata": {},
     "output_type": "execute_result"
    }
   ],
   "source": [
    "sample.name.unique()"
   ]
  },
  {
   "cell_type": "code",
   "execution_count": 10,
   "metadata": {},
   "outputs": [],
   "source": [
    "sample['name_clean'] = sample['name']"
   ]
  },
  {
   "cell_type": "markdown",
   "metadata": {},
   "source": [
    "### 3.2.1 Make everything lowercase."
   ]
  },
  {
   "cell_type": "code",
   "execution_count": 11,
   "metadata": {},
   "outputs": [],
   "source": [
    "sample['name_clean'] = sample['name_clean'].str.lower()"
   ]
  },
  {
   "cell_type": "markdown",
   "metadata": {},
   "source": [
    "### 3.2.2 Remove special characters"
   ]
  },
  {
   "cell_type": "code",
   "execution_count": 12,
   "metadata": {},
   "outputs": [],
   "source": [
    "sample['name_clean'] = sample['name_clean'].str.replace('[^\\w\\s]', '')"
   ]
  },
  {
   "cell_type": "markdown",
   "metadata": {},
   "source": [
    "### 3.2.3 Remove resulting double spaces"
   ]
  },
  {
   "cell_type": "code",
   "execution_count": 13,
   "metadata": {},
   "outputs": [],
   "source": [
    "sample['name_clean'] = sample['name_clean'].str.replace('  ', ' ')"
   ]
  },
  {
   "cell_type": "markdown",
   "metadata": {},
   "source": [
    "### 3.2.4 Remove abbreviations like Inc, Co, etc."
   ]
  },
  {
   "cell_type": "markdown",
   "metadata": {},
   "source": [
    "We add a space to the end of the strings to be able to only remove full words. Otherwise, removing \" co\" would mess up occurances of \"corp\"."
   ]
  },
  {
   "cell_type": "code",
   "execution_count": 14,
   "metadata": {},
   "outputs": [],
   "source": [
    "sample['name_clean'] = sample['name_clean'] + ' '"
   ]
  },
  {
   "cell_type": "code",
   "execution_count": 15,
   "metadata": {},
   "outputs": [],
   "source": [
    "company_terms = [' co ', ' inc ', ' corp ', ' cl ', ' a ', ' ltd ']\n",
    "\n",
    "for term in company_terms:\n",
    "    sample['name_clean'] = sample['name_clean'].str.replace(term, ' ')"
   ]
  },
  {
   "cell_type": "markdown",
   "metadata": {},
   "source": [
    "Remove trailing whitespace."
   ]
  },
  {
   "cell_type": "code",
   "execution_count": 16,
   "metadata": {},
   "outputs": [],
   "source": [
    "sample['name_clean'] = sample['name_clean'].str.strip()"
   ]
  },
  {
   "cell_type": "markdown",
   "metadata": {},
   "source": [
    "Inspect results."
   ]
  },
  {
   "cell_type": "code",
   "execution_count": 17,
   "metadata": {},
   "outputs": [
    {
     "data": {
      "text/plain": [
       "array(['best buy', 'officemax', 'circuit city stores', 'target',\n",
       "       'dillards', 'dollar general', 'family dollar stores', 'macys',\n",
       "       'gap', 'genuine parts', 'home depot', 'sears holdings', 'l brands',\n",
       "       'lowes companies', 'may department stores', 'nordstrom',\n",
       "       'penney j c', 'pep boysmanny moe jack', 'autonation',\n",
       "       'ross stores', 'sears roebuck', 'rs legacy', 'toys r us',\n",
       "       'foot locker', 'tjx companies', 'big lots', 'tiffany',\n",
       "       'office depot', 'signet jewelers', 'staples', 'autozone', 'kohls',\n",
       "       'bed bath beyond', 'oreilly automotive', 'petsmart',\n",
       "       'urban outfitters', 'tractor supply', 'dollar tree',\n",
       "       'abercrombie fitch', 'carmax', 'gamestop', 'advance auto parts',\n",
       "       'lkq', 'ulta beauty'], dtype=object)"
      ]
     },
     "execution_count": 17,
     "metadata": {},
     "output_type": "execute_result"
    }
   ],
   "source": [
    "sample.name_clean.unique()"
   ]
  },
  {
   "cell_type": "markdown",
   "metadata": {},
   "source": [
    "The results look promising, but there might be some missmatches for gap. JCPenney might also need some alternative names (e.g., jcpenney), so we will remove those for now. Another entry to pay attention to is \"staples\" which might also yield missmatches."
   ]
  },
  {
   "cell_type": "markdown",
   "metadata": {},
   "source": [
    "### 3.2.5 Drop ambiguous"
   ]
  },
  {
   "cell_type": "code",
   "execution_count": 18,
   "metadata": {},
   "outputs": [],
   "source": [
    "ambiguous = ['penney j c', 'gap']"
   ]
  },
  {
   "cell_type": "code",
   "execution_count": 19,
   "metadata": {},
   "outputs": [],
   "source": [
    "ambiguous = sample['name_clean'].isin(ambiguous)\n",
    "\n",
    "sample = sample[~ambiguous].reset_index(drop=True)"
   ]
  },
  {
   "cell_type": "code",
   "execution_count": 20,
   "metadata": {},
   "outputs": [
    {
     "data": {
      "text/html": [
       "<div>\n",
       "<style scoped>\n",
       "    .dataframe tbody tr th:only-of-type {\n",
       "        vertical-align: middle;\n",
       "    }\n",
       "\n",
       "    .dataframe tbody tr th {\n",
       "        vertical-align: top;\n",
       "    }\n",
       "\n",
       "    .dataframe thead th {\n",
       "        text-align: right;\n",
       "    }\n",
       "</style>\n",
       "<table border=\"1\" class=\"dataframe\">\n",
       "  <thead>\n",
       "    <tr style=\"text-align: right;\">\n",
       "      <th></th>\n",
       "      <th>gvkey</th>\n",
       "      <th>name</th>\n",
       "      <th>SIC</th>\n",
       "      <th>NAICS</th>\n",
       "      <th>GICS_group</th>\n",
       "      <th>GICS_industry</th>\n",
       "      <th>GICS_sector</th>\n",
       "      <th>GICS_subindustry</th>\n",
       "      <th>execid</th>\n",
       "      <th>year</th>\n",
       "      <th>name_clean</th>\n",
       "    </tr>\n",
       "  </thead>\n",
       "  <tbody>\n",
       "    <tr>\n",
       "      <th>0</th>\n",
       "      <td>002184</td>\n",
       "      <td>Best Buy Co Inc</td>\n",
       "      <td>5731</td>\n",
       "      <td>443142</td>\n",
       "      <td>2550</td>\n",
       "      <td>255040</td>\n",
       "      <td>25</td>\n",
       "      <td>25504020</td>\n",
       "      <td>06175</td>\n",
       "      <td>2009.0</td>\n",
       "      <td>best buy</td>\n",
       "    </tr>\n",
       "    <tr>\n",
       "      <th>1</th>\n",
       "      <td>002184</td>\n",
       "      <td>Best Buy Co Inc</td>\n",
       "      <td>5731</td>\n",
       "      <td>443142</td>\n",
       "      <td>2550</td>\n",
       "      <td>255040</td>\n",
       "      <td>25</td>\n",
       "      <td>25504020</td>\n",
       "      <td>28397</td>\n",
       "      <td>2009.0</td>\n",
       "      <td>best buy</td>\n",
       "    </tr>\n",
       "    <tr>\n",
       "      <th>2</th>\n",
       "      <td>002184</td>\n",
       "      <td>Best Buy Co Inc</td>\n",
       "      <td>5731</td>\n",
       "      <td>443142</td>\n",
       "      <td>2550</td>\n",
       "      <td>255040</td>\n",
       "      <td>25</td>\n",
       "      <td>25504020</td>\n",
       "      <td>28397</td>\n",
       "      <td>2010.0</td>\n",
       "      <td>best buy</td>\n",
       "    </tr>\n",
       "    <tr>\n",
       "      <th>3</th>\n",
       "      <td>002184</td>\n",
       "      <td>Best Buy Co Inc</td>\n",
       "      <td>5731</td>\n",
       "      <td>443142</td>\n",
       "      <td>2550</td>\n",
       "      <td>255040</td>\n",
       "      <td>25</td>\n",
       "      <td>25504020</td>\n",
       "      <td>28397</td>\n",
       "      <td>2011.0</td>\n",
       "      <td>best buy</td>\n",
       "    </tr>\n",
       "    <tr>\n",
       "      <th>4</th>\n",
       "      <td>002184</td>\n",
       "      <td>Best Buy Co Inc</td>\n",
       "      <td>5731</td>\n",
       "      <td>443142</td>\n",
       "      <td>2550</td>\n",
       "      <td>255040</td>\n",
       "      <td>25</td>\n",
       "      <td>25504020</td>\n",
       "      <td>28397</td>\n",
       "      <td>2012.0</td>\n",
       "      <td>best buy</td>\n",
       "    </tr>\n",
       "  </tbody>\n",
       "</table>\n",
       "</div>"
      ],
      "text/plain": [
       "    gvkey             name   SIC   NAICS GICS_group GICS_industry GICS_sector  \\\n",
       "0  002184  Best Buy Co Inc  5731  443142       2550        255040          25   \n",
       "1  002184  Best Buy Co Inc  5731  443142       2550        255040          25   \n",
       "2  002184  Best Buy Co Inc  5731  443142       2550        255040          25   \n",
       "3  002184  Best Buy Co Inc  5731  443142       2550        255040          25   \n",
       "4  002184  Best Buy Co Inc  5731  443142       2550        255040          25   \n",
       "\n",
       "  GICS_subindustry execid    year name_clean  \n",
       "0         25504020  06175  2009.0   best buy  \n",
       "1         25504020  28397  2009.0   best buy  \n",
       "2         25504020  28397  2010.0   best buy  \n",
       "3         25504020  28397  2011.0   best buy  \n",
       "4         25504020  28397  2012.0   best buy  "
      ]
     },
     "execution_count": 20,
     "metadata": {},
     "output_type": "execute_result"
    }
   ],
   "source": [
    "sample.head()"
   ]
  },
  {
   "cell_type": "markdown",
   "metadata": {},
   "source": [
    "## 3.3 Clean recall data"
   ]
  },
  {
   "cell_type": "markdown",
   "metadata": {},
   "source": [
    "We look for matches in the retailer column."
   ]
  },
  {
   "cell_type": "markdown",
   "metadata": {},
   "source": [
    "### 3.3.1 Make everything lowercase"
   ]
  },
  {
   "cell_type": "code",
   "execution_count": 21,
   "metadata": {},
   "outputs": [],
   "source": [
    "recalls['retailer'] = recalls['retailer'].str.lower()"
   ]
  },
  {
   "cell_type": "markdown",
   "metadata": {},
   "source": [
    "### 3.3.2 Remove special characters"
   ]
  },
  {
   "cell_type": "code",
   "execution_count": 22,
   "metadata": {},
   "outputs": [],
   "source": [
    "recalls['retailer'] = recalls['retailer'].str.replace('[^\\w\\s]', '')"
   ]
  },
  {
   "cell_type": "markdown",
   "metadata": {},
   "source": [
    "### 3.3.3 Remove resulting double spaces"
   ]
  },
  {
   "cell_type": "code",
   "execution_count": 23,
   "metadata": {},
   "outputs": [],
   "source": [
    "recalls['retailer'] = recalls['retailer'].str.replace('  ', ' ')"
   ]
  },
  {
   "cell_type": "markdown",
   "metadata": {},
   "source": [
    "## 3.4 Find companies in recalls"
   ]
  },
  {
   "cell_type": "markdown",
   "metadata": {},
   "source": [
    "### 3.4.1 Run testrun"
   ]
  },
  {
   "cell_type": "code",
   "execution_count": 24,
   "metadata": {},
   "outputs": [
    {
     "name": "stdout",
     "output_type": "stream",
     "text": [
      "best buy\n"
     ]
    }
   ],
   "source": [
    "company = sample['name_clean'].unique()[0]\n",
    "print(company)"
   ]
  },
  {
   "cell_type": "code",
   "execution_count": 25,
   "metadata": {},
   "outputs": [],
   "source": [
    "test = recalls['retailer'].str.contains(company, na=False)"
   ]
  },
  {
   "cell_type": "code",
   "execution_count": 26,
   "metadata": {},
   "outputs": [],
   "source": [
    "from pandas.plotting import register_matplotlib_converters\n",
    "register_matplotlib_converters()"
   ]
  },
  {
   "cell_type": "code",
   "execution_count": 27,
   "metadata": {},
   "outputs": [
    {
     "data": {
      "image/png": "[encoded data removed]",
      "text/plain": [
       "<Figure size 1440x360 with 1 Axes>"
      ]
     },
     "metadata": {
      "needs_background": "light"
     },
     "output_type": "display_data"
    }
   ],
   "source": [
    "best_buy_hist = recalls[test].date.hist(figsize=(20,5), bins=60)\n",
    "plt.show(best_buy_hist)"
   ]
  },
  {
   "cell_type": "markdown",
   "metadata": {},
   "source": [
    "Seems to be working as expected. In the next step, we want to find all matches per company-year observation."
   ]
  },
  {
   "cell_type": "code",
   "execution_count": 28,
   "metadata": {},
   "outputs": [],
   "source": [
    "recalls['year'] = recalls['date'].dt.year"
   ]
  },
  {
   "cell_type": "code",
   "execution_count": 29,
   "metadata": {},
   "outputs": [
    {
     "data": {
      "text/plain": [
       "2016.0    9\n",
       "2013.0    6\n",
       "2012.0    5\n",
       "2014.0    5\n",
       "2015.0    4\n",
       "2017.0    4\n",
       "2018.0    2\n",
       "2011.0    1\n",
       "Name: year, dtype: int64"
      ]
     },
     "execution_count": 29,
     "metadata": {},
     "output_type": "execute_result"
    }
   ],
   "source": [
    "pd.value_counts(recalls[test]['year'])"
   ]
  },
  {
   "cell_type": "markdown",
   "metadata": {},
   "source": [
    "### 3.4.2 Find all matches"
   ]
  },
  {
   "cell_type": "code",
   "execution_count": 30,
   "metadata": {},
   "outputs": [],
   "source": [
    "recalls_matched = pd.DataFrame()"
   ]
  },
  {
   "cell_type": "code",
   "execution_count": 31,
   "metadata": {},
   "outputs": [],
   "source": [
    "for company in sample['name_clean'].unique():\n",
    "    matches = recalls['retailer'].str.contains(company, na=False)\n",
    "    matches = pd.value_counts(recalls[matches]['year']).rename('recalls').to_frame()\n",
    "    matches['name_clean'] = company\n",
    "    recalls_matched = recalls_matched.append(matches)"
   ]
  },
  {
   "cell_type": "code",
   "execution_count": 32,
   "metadata": {},
   "outputs": [],
   "source": [
    "recalls_matched.index.names = ['year']"
   ]
  },
  {
   "cell_type": "code",
   "execution_count": 33,
   "metadata": {},
   "outputs": [
    {
     "data": {
      "text/html": [
       "<div>\n",
       "<style scoped>\n",
       "    .dataframe tbody tr th:only-of-type {\n",
       "        vertical-align: middle;\n",
       "    }\n",
       "\n",
       "    .dataframe tbody tr th {\n",
       "        vertical-align: top;\n",
       "    }\n",
       "\n",
       "    .dataframe thead th {\n",
       "        text-align: right;\n",
       "    }\n",
       "</style>\n",
       "<table border=\"1\" class=\"dataframe\">\n",
       "  <thead>\n",
       "    <tr style=\"text-align: right;\">\n",
       "      <th></th>\n",
       "      <th>recalls</th>\n",
       "      <th>name_clean</th>\n",
       "    </tr>\n",
       "    <tr>\n",
       "      <th>year</th>\n",
       "      <th></th>\n",
       "      <th></th>\n",
       "    </tr>\n",
       "  </thead>\n",
       "  <tbody>\n",
       "    <tr>\n",
       "      <th>2016.0</th>\n",
       "      <td>9</td>\n",
       "      <td>best buy</td>\n",
       "    </tr>\n",
       "    <tr>\n",
       "      <th>2013.0</th>\n",
       "      <td>6</td>\n",
       "      <td>best buy</td>\n",
       "    </tr>\n",
       "    <tr>\n",
       "      <th>2012.0</th>\n",
       "      <td>5</td>\n",
       "      <td>best buy</td>\n",
       "    </tr>\n",
       "    <tr>\n",
       "      <th>2014.0</th>\n",
       "      <td>5</td>\n",
       "      <td>best buy</td>\n",
       "    </tr>\n",
       "    <tr>\n",
       "      <th>2015.0</th>\n",
       "      <td>4</td>\n",
       "      <td>best buy</td>\n",
       "    </tr>\n",
       "    <tr>\n",
       "      <th>2017.0</th>\n",
       "      <td>4</td>\n",
       "      <td>best buy</td>\n",
       "    </tr>\n",
       "    <tr>\n",
       "      <th>2018.0</th>\n",
       "      <td>2</td>\n",
       "      <td>best buy</td>\n",
       "    </tr>\n",
       "    <tr>\n",
       "      <th>2011.0</th>\n",
       "      <td>1</td>\n",
       "      <td>best buy</td>\n",
       "    </tr>\n",
       "    <tr>\n",
       "      <th>2016.0</th>\n",
       "      <td>2</td>\n",
       "      <td>officemax</td>\n",
       "    </tr>\n",
       "    <tr>\n",
       "      <th>2014.0</th>\n",
       "      <td>1</td>\n",
       "      <td>officemax</td>\n",
       "    </tr>\n",
       "    <tr>\n",
       "      <th>2017.0</th>\n",
       "      <td>1</td>\n",
       "      <td>officemax</td>\n",
       "    </tr>\n",
       "    <tr>\n",
       "      <th>2017.0</th>\n",
       "      <td>18</td>\n",
       "      <td>target</td>\n",
       "    </tr>\n",
       "    <tr>\n",
       "      <th>2016.0</th>\n",
       "      <td>15</td>\n",
       "      <td>target</td>\n",
       "    </tr>\n",
       "    <tr>\n",
       "      <th>2012.0</th>\n",
       "      <td>14</td>\n",
       "      <td>target</td>\n",
       "    </tr>\n",
       "    <tr>\n",
       "      <th>2015.0</th>\n",
       "      <td>12</td>\n",
       "      <td>target</td>\n",
       "    </tr>\n",
       "    <tr>\n",
       "      <th>2018.0</th>\n",
       "      <td>12</td>\n",
       "      <td>target</td>\n",
       "    </tr>\n",
       "    <tr>\n",
       "      <th>2011.0</th>\n",
       "      <td>11</td>\n",
       "      <td>target</td>\n",
       "    </tr>\n",
       "    <tr>\n",
       "      <th>2014.0</th>\n",
       "      <td>10</td>\n",
       "      <td>target</td>\n",
       "    </tr>\n",
       "    <tr>\n",
       "      <th>2013.0</th>\n",
       "      <td>8</td>\n",
       "      <td>target</td>\n",
       "    </tr>\n",
       "    <tr>\n",
       "      <th>2019.0</th>\n",
       "      <td>1</td>\n",
       "      <td>target</td>\n",
       "    </tr>\n",
       "    <tr>\n",
       "      <th>2018.0</th>\n",
       "      <td>3</td>\n",
       "      <td>dillards</td>\n",
       "    </tr>\n",
       "    <tr>\n",
       "      <th>2011.0</th>\n",
       "      <td>2</td>\n",
       "      <td>dillards</td>\n",
       "    </tr>\n",
       "    <tr>\n",
       "      <th>2017.0</th>\n",
       "      <td>2</td>\n",
       "      <td>dillards</td>\n",
       "    </tr>\n",
       "    <tr>\n",
       "      <th>2012.0</th>\n",
       "      <td>1</td>\n",
       "      <td>dillards</td>\n",
       "    </tr>\n",
       "    <tr>\n",
       "      <th>2013.0</th>\n",
       "      <td>1</td>\n",
       "      <td>dillards</td>\n",
       "    </tr>\n",
       "    <tr>\n",
       "      <th>2014.0</th>\n",
       "      <td>1</td>\n",
       "      <td>dillards</td>\n",
       "    </tr>\n",
       "    <tr>\n",
       "      <th>2015.0</th>\n",
       "      <td>2</td>\n",
       "      <td>dollar general</td>\n",
       "    </tr>\n",
       "    <tr>\n",
       "      <th>2016.0</th>\n",
       "      <td>2</td>\n",
       "      <td>dollar general</td>\n",
       "    </tr>\n",
       "    <tr>\n",
       "      <th>2015.0</th>\n",
       "      <td>1</td>\n",
       "      <td>family dollar stores</td>\n",
       "    </tr>\n",
       "    <tr>\n",
       "      <th>2017.0</th>\n",
       "      <td>4</td>\n",
       "      <td>macys</td>\n",
       "    </tr>\n",
       "    <tr>\n",
       "      <th>...</th>\n",
       "      <td>...</td>\n",
       "      <td>...</td>\n",
       "    </tr>\n",
       "    <tr>\n",
       "      <th>2011.0</th>\n",
       "      <td>2</td>\n",
       "      <td>kohls</td>\n",
       "    </tr>\n",
       "    <tr>\n",
       "      <th>2012.0</th>\n",
       "      <td>2</td>\n",
       "      <td>kohls</td>\n",
       "    </tr>\n",
       "    <tr>\n",
       "      <th>2013.0</th>\n",
       "      <td>1</td>\n",
       "      <td>kohls</td>\n",
       "    </tr>\n",
       "    <tr>\n",
       "      <th>2018.0</th>\n",
       "      <td>7</td>\n",
       "      <td>bed bath beyond</td>\n",
       "    </tr>\n",
       "    <tr>\n",
       "      <th>2012.0</th>\n",
       "      <td>4</td>\n",
       "      <td>bed bath beyond</td>\n",
       "    </tr>\n",
       "    <tr>\n",
       "      <th>2015.0</th>\n",
       "      <td>4</td>\n",
       "      <td>bed bath beyond</td>\n",
       "    </tr>\n",
       "    <tr>\n",
       "      <th>2017.0</th>\n",
       "      <td>4</td>\n",
       "      <td>bed bath beyond</td>\n",
       "    </tr>\n",
       "    <tr>\n",
       "      <th>2011.0</th>\n",
       "      <td>2</td>\n",
       "      <td>bed bath beyond</td>\n",
       "    </tr>\n",
       "    <tr>\n",
       "      <th>2013.0</th>\n",
       "      <td>2</td>\n",
       "      <td>bed bath beyond</td>\n",
       "    </tr>\n",
       "    <tr>\n",
       "      <th>2014.0</th>\n",
       "      <td>2</td>\n",
       "      <td>bed bath beyond</td>\n",
       "    </tr>\n",
       "    <tr>\n",
       "      <th>2016.0</th>\n",
       "      <td>2</td>\n",
       "      <td>bed bath beyond</td>\n",
       "    </tr>\n",
       "    <tr>\n",
       "      <th>2010.0</th>\n",
       "      <td>1</td>\n",
       "      <td>bed bath beyond</td>\n",
       "    </tr>\n",
       "    <tr>\n",
       "      <th>2018.0</th>\n",
       "      <td>1</td>\n",
       "      <td>petsmart</td>\n",
       "    </tr>\n",
       "    <tr>\n",
       "      <th>2016.0</th>\n",
       "      <td>1</td>\n",
       "      <td>urban outfitters</td>\n",
       "    </tr>\n",
       "    <tr>\n",
       "      <th>2018.0</th>\n",
       "      <td>1</td>\n",
       "      <td>urban outfitters</td>\n",
       "    </tr>\n",
       "    <tr>\n",
       "      <th>2018.0</th>\n",
       "      <td>3</td>\n",
       "      <td>tractor supply</td>\n",
       "    </tr>\n",
       "    <tr>\n",
       "      <th>2011.0</th>\n",
       "      <td>2</td>\n",
       "      <td>tractor supply</td>\n",
       "    </tr>\n",
       "    <tr>\n",
       "      <th>2013.0</th>\n",
       "      <td>2</td>\n",
       "      <td>tractor supply</td>\n",
       "    </tr>\n",
       "    <tr>\n",
       "      <th>2014.0</th>\n",
       "      <td>1</td>\n",
       "      <td>tractor supply</td>\n",
       "    </tr>\n",
       "    <tr>\n",
       "      <th>2015.0</th>\n",
       "      <td>1</td>\n",
       "      <td>tractor supply</td>\n",
       "    </tr>\n",
       "    <tr>\n",
       "      <th>2016.0</th>\n",
       "      <td>1</td>\n",
       "      <td>tractor supply</td>\n",
       "    </tr>\n",
       "    <tr>\n",
       "      <th>2017.0</th>\n",
       "      <td>1</td>\n",
       "      <td>tractor supply</td>\n",
       "    </tr>\n",
       "    <tr>\n",
       "      <th>2010.0</th>\n",
       "      <td>2</td>\n",
       "      <td>dollar tree</td>\n",
       "    </tr>\n",
       "    <tr>\n",
       "      <th>2015.0</th>\n",
       "      <td>2</td>\n",
       "      <td>dollar tree</td>\n",
       "    </tr>\n",
       "    <tr>\n",
       "      <th>2009.0</th>\n",
       "      <td>1</td>\n",
       "      <td>dollar tree</td>\n",
       "    </tr>\n",
       "    <tr>\n",
       "      <th>2011.0</th>\n",
       "      <td>1</td>\n",
       "      <td>dollar tree</td>\n",
       "    </tr>\n",
       "    <tr>\n",
       "      <th>2015.0</th>\n",
       "      <td>2</td>\n",
       "      <td>gamestop</td>\n",
       "    </tr>\n",
       "    <tr>\n",
       "      <th>2017.0</th>\n",
       "      <td>1</td>\n",
       "      <td>gamestop</td>\n",
       "    </tr>\n",
       "    <tr>\n",
       "      <th>2018.0</th>\n",
       "      <td>1</td>\n",
       "      <td>gamestop</td>\n",
       "    </tr>\n",
       "    <tr>\n",
       "      <th>2015.0</th>\n",
       "      <td>1</td>\n",
       "      <td>ulta beauty</td>\n",
       "    </tr>\n",
       "  </tbody>\n",
       "</table>\n",
       "<p>120 rows × 2 columns</p>\n",
       "</div>"
      ],
      "text/plain": [
       "        recalls            name_clean\n",
       "year                                 \n",
       "2016.0        9              best buy\n",
       "2013.0        6              best buy\n",
       "2012.0        5              best buy\n",
       "2014.0        5              best buy\n",
       "2015.0        4              best buy\n",
       "2017.0        4              best buy\n",
       "2018.0        2              best buy\n",
       "2011.0        1              best buy\n",
       "2016.0        2             officemax\n",
       "2014.0        1             officemax\n",
       "2017.0        1             officemax\n",
       "2017.0       18                target\n",
       "2016.0       15                target\n",
       "2012.0       14                target\n",
       "2015.0       12                target\n",
       "2018.0       12                target\n",
       "2011.0       11                target\n",
       "2014.0       10                target\n",
       "2013.0        8                target\n",
       "2019.0        1                target\n",
       "2018.0        3              dillards\n",
       "2011.0        2              dillards\n",
       "2017.0        2              dillards\n",
       "2012.0        1              dillards\n",
       "2013.0        1              dillards\n",
       "2014.0        1              dillards\n",
       "2015.0        2        dollar general\n",
       "2016.0        2        dollar general\n",
       "2015.0        1  family dollar stores\n",
       "2017.0        4                 macys\n",
       "...         ...                   ...\n",
       "2011.0        2                 kohls\n",
       "2012.0        2                 kohls\n",
       "2013.0        1                 kohls\n",
       "2018.0        7       bed bath beyond\n",
       "2012.0        4       bed bath beyond\n",
       "2015.0        4       bed bath beyond\n",
       "2017.0        4       bed bath beyond\n",
       "2011.0        2       bed bath beyond\n",
       "2013.0        2       bed bath beyond\n",
       "2014.0        2       bed bath beyond\n",
       "2016.0        2       bed bath beyond\n",
       "2010.0        1       bed bath beyond\n",
       "2018.0        1              petsmart\n",
       "2016.0        1      urban outfitters\n",
       "2018.0        1      urban outfitters\n",
       "2018.0        3        tractor supply\n",
       "2011.0        2        tractor supply\n",
       "2013.0        2        tractor supply\n",
       "2014.0        1        tractor supply\n",
       "2015.0        1        tractor supply\n",
       "2016.0        1        tractor supply\n",
       "2017.0        1        tractor supply\n",
       "2010.0        2           dollar tree\n",
       "2015.0        2           dollar tree\n",
       "2009.0        1           dollar tree\n",
       "2011.0        1           dollar tree\n",
       "2015.0        2              gamestop\n",
       "2017.0        1              gamestop\n",
       "2018.0        1              gamestop\n",
       "2015.0        1           ulta beauty\n",
       "\n",
       "[120 rows x 2 columns]"
      ]
     },
     "execution_count": 33,
     "metadata": {},
     "output_type": "execute_result"
    }
   ],
   "source": [
    "recalls_matched"
   ]
  },
  {
   "cell_type": "markdown",
   "metadata": {},
   "source": [
    "## 3.4 Merge"
   ]
  },
  {
   "cell_type": "code",
   "execution_count": 34,
   "metadata": {},
   "outputs": [],
   "source": [
    "recalls_matched = pd.merge(sample, recalls_matched, on=['name_clean', 'year'])"
   ]
  },
  {
   "cell_type": "markdown",
   "metadata": {},
   "source": [
    "We accurately report that we have not found recalls where the value is NA."
   ]
  },
  {
   "cell_type": "code",
   "execution_count": 35,
   "metadata": {},
   "outputs": [],
   "source": [
    "recalls_matched['recalls'] = recalls_matched['recalls'].fillna(0)"
   ]
  },
  {
   "cell_type": "code",
   "execution_count": 36,
   "metadata": {},
   "outputs": [
    {
     "data": {
      "text/html": [
       "<div>\n",
       "<style scoped>\n",
       "    .dataframe tbody tr th:only-of-type {\n",
       "        vertical-align: middle;\n",
       "    }\n",
       "\n",
       "    .dataframe tbody tr th {\n",
       "        vertical-align: top;\n",
       "    }\n",
       "\n",
       "    .dataframe thead th {\n",
       "        text-align: right;\n",
       "    }\n",
       "</style>\n",
       "<table border=\"1\" class=\"dataframe\">\n",
       "  <thead>\n",
       "    <tr style=\"text-align: right;\">\n",
       "      <th></th>\n",
       "      <th>gvkey</th>\n",
       "      <th>name</th>\n",
       "      <th>SIC</th>\n",
       "      <th>NAICS</th>\n",
       "      <th>GICS_group</th>\n",
       "      <th>GICS_industry</th>\n",
       "      <th>GICS_sector</th>\n",
       "      <th>GICS_subindustry</th>\n",
       "      <th>execid</th>\n",
       "      <th>year</th>\n",
       "      <th>name_clean</th>\n",
       "      <th>recalls</th>\n",
       "    </tr>\n",
       "  </thead>\n",
       "  <tbody>\n",
       "    <tr>\n",
       "      <th>0</th>\n",
       "      <td>002184</td>\n",
       "      <td>Best Buy Co Inc</td>\n",
       "      <td>5731</td>\n",
       "      <td>443142</td>\n",
       "      <td>2550</td>\n",
       "      <td>255040</td>\n",
       "      <td>25</td>\n",
       "      <td>25504020</td>\n",
       "      <td>28397</td>\n",
       "      <td>2011.0</td>\n",
       "      <td>best buy</td>\n",
       "      <td>1</td>\n",
       "    </tr>\n",
       "    <tr>\n",
       "      <th>1</th>\n",
       "      <td>002184</td>\n",
       "      <td>Best Buy Co Inc</td>\n",
       "      <td>5731</td>\n",
       "      <td>443142</td>\n",
       "      <td>2550</td>\n",
       "      <td>255040</td>\n",
       "      <td>25</td>\n",
       "      <td>25504020</td>\n",
       "      <td>31179</td>\n",
       "      <td>2011.0</td>\n",
       "      <td>best buy</td>\n",
       "      <td>1</td>\n",
       "    </tr>\n",
       "    <tr>\n",
       "      <th>2</th>\n",
       "      <td>002184</td>\n",
       "      <td>Best Buy Co Inc</td>\n",
       "      <td>5731</td>\n",
       "      <td>443142</td>\n",
       "      <td>2550</td>\n",
       "      <td>255040</td>\n",
       "      <td>25</td>\n",
       "      <td>25504020</td>\n",
       "      <td>32768</td>\n",
       "      <td>2011.0</td>\n",
       "      <td>best buy</td>\n",
       "      <td>1</td>\n",
       "    </tr>\n",
       "    <tr>\n",
       "      <th>3</th>\n",
       "      <td>002184</td>\n",
       "      <td>Best Buy Co Inc</td>\n",
       "      <td>5731</td>\n",
       "      <td>443142</td>\n",
       "      <td>2550</td>\n",
       "      <td>255040</td>\n",
       "      <td>25</td>\n",
       "      <td>25504020</td>\n",
       "      <td>40067</td>\n",
       "      <td>2011.0</td>\n",
       "      <td>best buy</td>\n",
       "      <td>1</td>\n",
       "    </tr>\n",
       "    <tr>\n",
       "      <th>4</th>\n",
       "      <td>002184</td>\n",
       "      <td>Best Buy Co Inc</td>\n",
       "      <td>5731</td>\n",
       "      <td>443142</td>\n",
       "      <td>2550</td>\n",
       "      <td>255040</td>\n",
       "      <td>25</td>\n",
       "      <td>25504020</td>\n",
       "      <td>41790</td>\n",
       "      <td>2011.0</td>\n",
       "      <td>best buy</td>\n",
       "      <td>1</td>\n",
       "    </tr>\n",
       "  </tbody>\n",
       "</table>\n",
       "</div>"
      ],
      "text/plain": [
       "    gvkey             name   SIC   NAICS GICS_group GICS_industry GICS_sector  \\\n",
       "0  002184  Best Buy Co Inc  5731  443142       2550        255040          25   \n",
       "1  002184  Best Buy Co Inc  5731  443142       2550        255040          25   \n",
       "2  002184  Best Buy Co Inc  5731  443142       2550        255040          25   \n",
       "3  002184  Best Buy Co Inc  5731  443142       2550        255040          25   \n",
       "4  002184  Best Buy Co Inc  5731  443142       2550        255040          25   \n",
       "\n",
       "  GICS_subindustry execid    year name_clean  recalls  \n",
       "0         25504020  28397  2011.0   best buy        1  \n",
       "1         25504020  31179  2011.0   best buy        1  \n",
       "2         25504020  32768  2011.0   best buy        1  \n",
       "3         25504020  40067  2011.0   best buy        1  \n",
       "4         25504020  41790  2011.0   best buy        1  "
      ]
     },
     "execution_count": 36,
     "metadata": {},
     "output_type": "execute_result"
    }
   ],
   "source": [
    "recalls_matched.head()"
   ]
  },
  {
   "cell_type": "markdown",
   "metadata": {},
   "source": [
    "## 3.5 Save to feather"
   ]
  },
  {
   "cell_type": "code",
   "execution_count": 37,
   "metadata": {},
   "outputs": [],
   "source": [
    "from datetime import date\n",
    "\n",
    "recalls_matched.to_feather('{0}/recalls_matched {1}.feather'.format(\n",
    "    parameters.preprocessed_folder, str(date.today())))"
   ]
  }
 ],
 "metadata": {
  "kernelspec": {
   "display_name": "corporate_disruptions",
   "language": "python",
   "name": "corporate_disruptions"
  },
  "language_info": {
   "codemirror_mode": {
    "name": "ipython",
    "version": 3
   },
   "file_extension": ".py",
   "mimetype": "text/x-python",
   "name": "python",
   "nbconvert_exporter": "python",
   "pygments_lexer": "ipython3",
   "version": "3.6.7"
  },
  "varInspector": {
   "cols": {
    "lenName": 16,
    "lenType": 16,
    "lenVar": 40
   },
   "kernels_config": {
    "python": {
     "delete_cmd_postfix": "",
     "delete_cmd_prefix": "del ",
     "library": "var_list.py",
     "varRefreshCmd": "print(var_dic_list())"
    },
    "r": {
     "delete_cmd_postfix": ") ",
     "delete_cmd_prefix": "rm(",
     "library": "var_list.r",
     "varRefreshCmd": "cat(var_dic_list()) "
    }
   },
   "types_to_exclude": [
    "module",
    "function",
    "builtin_function_or_method",
    "instance",
    "_Feature"
   ],
   "window_display": false
  }
 },
 "nbformat": 4,
 "nbformat_minor": 2
}
