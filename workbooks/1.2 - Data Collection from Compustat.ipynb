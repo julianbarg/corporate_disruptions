{
 "cells": [
  {
   "cell_type": "markdown",
   "metadata": {},
   "source": [
    "# 1.2 Data Collection - Collect company data from compustat"
   ]
  },
  {
   "cell_type": "markdown",
   "metadata": {},
   "source": [
    "First, we setup our connection to the wrds database."
   ]
  },
  {
   "cell_type": "code",
   "execution_count": 1,
   "metadata": {
    "scrolled": true
   },
   "outputs": [
    {
     "name": "stdout",
     "output_type": "stream",
     "text": [
      "/home/julian/PycharmProjects/corporate_disruptions\n"
     ]
    }
   ],
   "source": [
    "cd .."
   ]
  },
  {
   "cell_type": "code",
   "execution_count": 2,
   "metadata": {},
   "outputs": [],
   "source": [
    "import parameters\n",
    "import wrds_tools"
   ]
  },
  {
   "cell_type": "code",
   "execution_count": 3,
   "metadata": {},
   "outputs": [
    {
     "name": "stdout",
     "output_type": "stream",
     "text": [
      "Loading library list...\n",
      "Done\n"
     ]
    }
   ],
   "source": [
    "wrds = wrds_tools.WrdsConnection(wrds_username=parameters.wrds_username)"
   ]
  },
  {
   "cell_type": "markdown",
   "metadata": {},
   "source": [
    "Setup observation period and grab the basic info we need."
   ]
  },
  {
   "cell_type": "code",
   "execution_count": 4,
   "metadata": {},
   "outputs": [],
   "source": [
    "from datetime import date\n",
    "\n",
    "wrds.set_selection_period(start_date=date(year=2004, month=1, day=1), \n",
    "                            end_date=date(year=2017, month=12, day=31))\n",
    "wrds.build_sp500()"
   ]
  },
  {
   "cell_type": "markdown",
   "metadata": {},
   "source": [
    "Add names and industry classification system GICS"
   ]
  },
  {
   "cell_type": "code",
   "execution_count": 5,
   "metadata": {
    "scrolled": true
   },
   "outputs": [
    {
     "data": {
      "text/html": [
       "<div>\n",
       "<style scoped>\n",
       "    .dataframe tbody tr th:only-of-type {\n",
       "        vertical-align: middle;\n",
       "    }\n",
       "\n",
       "    .dataframe tbody tr th {\n",
       "        vertical-align: top;\n",
       "    }\n",
       "\n",
       "    .dataframe thead th {\n",
       "        text-align: right;\n",
       "    }\n",
       "</style>\n",
       "<table border=\"1\" class=\"dataframe\">\n",
       "  <thead>\n",
       "    <tr style=\"text-align: right;\">\n",
       "      <th></th>\n",
       "      <th>gvkey</th>\n",
       "      <th>name</th>\n",
       "      <th>SIC</th>\n",
       "      <th>NAICS</th>\n",
       "      <th>GICS_group</th>\n",
       "      <th>GICS_industry</th>\n",
       "      <th>GICS_sector</th>\n",
       "      <th>GICS_subindustry</th>\n",
       "    </tr>\n",
       "  </thead>\n",
       "  <tbody>\n",
       "    <tr>\n",
       "      <th>0</th>\n",
       "      <td>001013</td>\n",
       "      <td>Adc Telecommunications Inc</td>\n",
       "      <td>3661</td>\n",
       "      <td>334210</td>\n",
       "      <td>4520</td>\n",
       "      <td>452010</td>\n",
       "      <td>45</td>\n",
       "      <td>45201020</td>\n",
       "    </tr>\n",
       "    <tr>\n",
       "      <th>1</th>\n",
       "      <td>001045</td>\n",
       "      <td>American Airlines Group Inc</td>\n",
       "      <td>4512</td>\n",
       "      <td>481111</td>\n",
       "      <td>2030</td>\n",
       "      <td>203020</td>\n",
       "      <td>20</td>\n",
       "      <td>20302010</td>\n",
       "    </tr>\n",
       "    <tr>\n",
       "      <th>2</th>\n",
       "      <td>001075</td>\n",
       "      <td>Pinnacle West Capital Corp</td>\n",
       "      <td>4911</td>\n",
       "      <td>2211</td>\n",
       "      <td>5510</td>\n",
       "      <td>551010</td>\n",
       "      <td>55</td>\n",
       "      <td>55101010</td>\n",
       "    </tr>\n",
       "  </tbody>\n",
       "</table>\n",
       "</div>"
      ],
      "text/plain": [
       "    gvkey                         name   SIC   NAICS GICS_group GICS_industry  \\\n",
       "0  001013   Adc Telecommunications Inc  3661  334210       4520        452010   \n",
       "1  001045  American Airlines Group Inc  4512  481111       2030        203020   \n",
       "2  001075   Pinnacle West Capital Corp  4911    2211       5510        551010   \n",
       "\n",
       "  GICS_sector GICS_subindustry  \n",
       "0          45         45201020  \n",
       "1          20         20302010  \n",
       "2          55         55101010  "
      ]
     },
     "execution_count": 5,
     "metadata": {},
     "output_type": "execute_result"
    }
   ],
   "source": [
    "wrds.add_names()\n",
    "wrds.dataset['name'] = wrds.dataset['name'].str.title()\n",
    "\n",
    "wrds.add_industry_classifiers(get_gics=True)\n",
    "\n",
    "wrds.head(3)"
   ]
  },
  {
   "cell_type": "markdown",
   "metadata": {},
   "source": [
    "### 1.2.1 Filter by industry"
   ]
  },
  {
   "cell_type": "markdown",
   "metadata": {},
   "source": [
    "We use the GICS industry classification system to filter. For an overview, see https://en.wikipedia.org/wiki/Global_Industry_Classification_Standard . Industry Group 2550 is Retailing."
   ]
  },
  {
   "cell_type": "code",
   "execution_count": 6,
   "metadata": {},
   "outputs": [],
   "source": [
    "wrds.filter_by_industry(industry_code='2550', classification_system='GICS_group')"
   ]
  },
  {
   "cell_type": "code",
   "execution_count": 7,
   "metadata": {
    "scrolled": false
   },
   "outputs": [
    {
     "name": "stdout",
     "output_type": "stream",
     "text": [
      "Number of observations:  48 \n",
      "\n",
      "----------------\n",
      "\n",
      "0                Best Buy Co Inc\n",
      "1                  Officemax Inc\n",
      "2        Circuit City Stores Inc\n",
      "3                    Target Corp\n",
      "4            Dillards Inc  -Cl A\n",
      "5            Dollar General Corp\n",
      "6           Family Dollar Stores\n",
      "7                     Macy'S Inc\n",
      "8                        Gap Inc\n",
      "9               Genuine Parts Co\n",
      "10                Home Depot Inc\n",
      "11           Sears Holdings Corp\n",
      "12                  L Brands Inc\n",
      "13          Lowe'S Companies Inc\n",
      "14      May Department Stores Co\n",
      "15                 Nordstrom Inc\n",
      "16               Penney (J C) Co\n",
      "17                Autonation Inc\n",
      "18               Ross Stores Inc\n",
      "19            Sears Roebuck & Co\n",
      "20                Rs Legacy Corp\n",
      "21                 Toys R Us Inc\n",
      "22               Foot Locker Inc\n",
      "23             Tjx Companies Inc\n",
      "24                  Big Lots Inc\n",
      "25                  Tiffany & Co\n",
      "26              Office Depot Inc\n",
      "27           Signet Jewelers Ltd\n",
      "28                   Staples Inc\n",
      "29                  Autozone Inc\n",
      "30                   Kohl'S Corp\n",
      "31         Bed Bath & Beyond Inc\n",
      "32       O'Reilly Automotive Inc\n",
      "33                  Petsmart Inc\n",
      "34          Urban Outfitters Inc\n",
      "35             Tractor Supply Co\n",
      "36               Dollar Tree Inc\n",
      "37    Abercrombie & Fitch  -Cl A\n",
      "38                    Carmax Inc\n",
      "39                Amazon.Com Inc\n",
      "40          Booking Holdings Inc\n",
      "41             Expedia Group Inc\n",
      "42                 Gamestop Corp\n",
      "43        Advance Auto Parts Inc\n",
      "44                   Netflix Inc\n",
      "45                      Lkq Corp\n",
      "46               Ulta Beauty Inc\n",
      "47               Tripadvisor Inc\n",
      "Name: name, dtype: object\n"
     ]
    },
    {
     "data": {
      "text/html": [
       "<div>\n",
       "<style scoped>\n",
       "    .dataframe tbody tr th:only-of-type {\n",
       "        vertical-align: middle;\n",
       "    }\n",
       "\n",
       "    .dataframe tbody tr th {\n",
       "        vertical-align: top;\n",
       "    }\n",
       "\n",
       "    .dataframe thead th {\n",
       "        text-align: right;\n",
       "    }\n",
       "</style>\n",
       "<table border=\"1\" class=\"dataframe\">\n",
       "  <thead>\n",
       "    <tr style=\"text-align: right;\">\n",
       "      <th></th>\n",
       "      <th>gvkey</th>\n",
       "      <th>name</th>\n",
       "      <th>SIC</th>\n",
       "      <th>NAICS</th>\n",
       "      <th>GICS_group</th>\n",
       "      <th>GICS_industry</th>\n",
       "      <th>GICS_sector</th>\n",
       "      <th>GICS_subindustry</th>\n",
       "    </tr>\n",
       "  </thead>\n",
       "  <tbody>\n",
       "    <tr>\n",
       "      <th>0</th>\n",
       "      <td>002184</td>\n",
       "      <td>Best Buy Co Inc</td>\n",
       "      <td>5731</td>\n",
       "      <td>443142</td>\n",
       "      <td>2550</td>\n",
       "      <td>255040</td>\n",
       "      <td>25</td>\n",
       "      <td>25504020</td>\n",
       "    </tr>\n",
       "    <tr>\n",
       "      <th>1</th>\n",
       "      <td>002290</td>\n",
       "      <td>Officemax Inc</td>\n",
       "      <td>5110</td>\n",
       "      <td>424120</td>\n",
       "      <td>2550</td>\n",
       "      <td>255040</td>\n",
       "      <td>25</td>\n",
       "      <td>25504040</td>\n",
       "    </tr>\n",
       "    <tr>\n",
       "      <th>2</th>\n",
       "      <td>003054</td>\n",
       "      <td>Circuit City Stores Inc</td>\n",
       "      <td>5731</td>\n",
       "      <td>443112</td>\n",
       "      <td>2550</td>\n",
       "      <td>255040</td>\n",
       "      <td>25</td>\n",
       "      <td>25504020</td>\n",
       "    </tr>\n",
       "    <tr>\n",
       "      <th>3</th>\n",
       "      <td>003813</td>\n",
       "      <td>Target Corp</td>\n",
       "      <td>5331</td>\n",
       "      <td>452990</td>\n",
       "      <td>2550</td>\n",
       "      <td>255030</td>\n",
       "      <td>25</td>\n",
       "      <td>25503020</td>\n",
       "    </tr>\n",
       "    <tr>\n",
       "      <th>4</th>\n",
       "      <td>003964</td>\n",
       "      <td>Dillards Inc  -Cl A</td>\n",
       "      <td>5311</td>\n",
       "      <td>452111</td>\n",
       "      <td>2550</td>\n",
       "      <td>255030</td>\n",
       "      <td>25</td>\n",
       "      <td>25503010</td>\n",
       "    </tr>\n",
       "  </tbody>\n",
       "</table>\n",
       "</div>"
      ],
      "text/plain": [
       "    gvkey                     name   SIC   NAICS GICS_group GICS_industry  \\\n",
       "0  002184          Best Buy Co Inc  5731  443142       2550        255040   \n",
       "1  002290            Officemax Inc  5110  424120       2550        255040   \n",
       "2  003054  Circuit City Stores Inc  5731  443112       2550        255040   \n",
       "3  003813              Target Corp  5331  452990       2550        255030   \n",
       "4  003964      Dillards Inc  -Cl A  5311  452111       2550        255030   \n",
       "\n",
       "  GICS_sector GICS_subindustry  \n",
       "0          25         25504020  \n",
       "1          25         25504040  \n",
       "2          25         25504020  \n",
       "3          25         25503020  \n",
       "4          25         25503010  "
      ]
     },
     "execution_count": 7,
     "metadata": {},
     "output_type": "execute_result"
    }
   ],
   "source": [
    "print('Number of observations: ', len(wrds.dataset),\n",
    "      '\\n\\n----------------\\n')\n",
    "print(wrds.dataset['name'])\n",
    "wrds.dataset.head()"
   ]
  },
  {
   "cell_type": "markdown",
   "metadata": {},
   "source": [
    "### 1.2.2 Filter out Internet & Direct Marketing Retail"
   ]
  },
  {
   "cell_type": "markdown",
   "metadata": {},
   "source": [
    "Internet & Direct Marketing Retail is the GICS Sub-Industry 25502020."
   ]
  },
  {
   "cell_type": "code",
   "execution_count": 8,
   "metadata": {},
   "outputs": [
    {
     "data": {
      "text/html": [
       "<div>\n",
       "<style scoped>\n",
       "    .dataframe tbody tr th:only-of-type {\n",
       "        vertical-align: middle;\n",
       "    }\n",
       "\n",
       "    .dataframe tbody tr th {\n",
       "        vertical-align: top;\n",
       "    }\n",
       "\n",
       "    .dataframe thead th {\n",
       "        text-align: right;\n",
       "    }\n",
       "</style>\n",
       "<table border=\"1\" class=\"dataframe\">\n",
       "  <thead>\n",
       "    <tr style=\"text-align: right;\">\n",
       "      <th></th>\n",
       "      <th>gvkey</th>\n",
       "      <th>name</th>\n",
       "      <th>SIC</th>\n",
       "      <th>NAICS</th>\n",
       "      <th>GICS_group</th>\n",
       "      <th>GICS_industry</th>\n",
       "      <th>GICS_sector</th>\n",
       "      <th>GICS_subindustry</th>\n",
       "    </tr>\n",
       "  </thead>\n",
       "  <tbody>\n",
       "    <tr>\n",
       "      <th>39</th>\n",
       "      <td>064768</td>\n",
       "      <td>Amazon.Com Inc</td>\n",
       "      <td>5961</td>\n",
       "      <td>454111</td>\n",
       "      <td>2550</td>\n",
       "      <td>255020</td>\n",
       "      <td>25</td>\n",
       "      <td>25502020</td>\n",
       "    </tr>\n",
       "    <tr>\n",
       "      <th>40</th>\n",
       "      <td>119314</td>\n",
       "      <td>Booking Holdings Inc</td>\n",
       "      <td>7370</td>\n",
       "      <td>519130</td>\n",
       "      <td>2550</td>\n",
       "      <td>255020</td>\n",
       "      <td>25</td>\n",
       "      <td>25502020</td>\n",
       "    </tr>\n",
       "    <tr>\n",
       "      <th>41</th>\n",
       "      <td>126296</td>\n",
       "      <td>Expedia Group Inc</td>\n",
       "      <td>4700</td>\n",
       "      <td>561510</td>\n",
       "      <td>2550</td>\n",
       "      <td>255020</td>\n",
       "      <td>25</td>\n",
       "      <td>25502020</td>\n",
       "    </tr>\n",
       "    <tr>\n",
       "      <th>44</th>\n",
       "      <td>147579</td>\n",
       "      <td>Netflix Inc</td>\n",
       "      <td>7841</td>\n",
       "      <td>532230</td>\n",
       "      <td>2550</td>\n",
       "      <td>255020</td>\n",
       "      <td>25</td>\n",
       "      <td>25502020</td>\n",
       "    </tr>\n",
       "    <tr>\n",
       "      <th>47</th>\n",
       "      <td>199356</td>\n",
       "      <td>Tripadvisor Inc</td>\n",
       "      <td>7370</td>\n",
       "      <td>519130</td>\n",
       "      <td>2550</td>\n",
       "      <td>255020</td>\n",
       "      <td>25</td>\n",
       "      <td>25502020</td>\n",
       "    </tr>\n",
       "  </tbody>\n",
       "</table>\n",
       "</div>"
      ],
      "text/plain": [
       "     gvkey                  name   SIC   NAICS GICS_group GICS_industry  \\\n",
       "39  064768        Amazon.Com Inc  5961  454111       2550        255020   \n",
       "40  119314  Booking Holdings Inc  7370  519130       2550        255020   \n",
       "41  126296     Expedia Group Inc  4700  561510       2550        255020   \n",
       "44  147579           Netflix Inc  7841  532230       2550        255020   \n",
       "47  199356       Tripadvisor Inc  7370  519130       2550        255020   \n",
       "\n",
       "   GICS_sector GICS_subindustry  \n",
       "39          25         25502020  \n",
       "40          25         25502020  \n",
       "41          25         25502020  \n",
       "44          25         25502020  \n",
       "47          25         25502020  "
      ]
     },
     "execution_count": 8,
     "metadata": {},
     "output_type": "execute_result"
    }
   ],
   "source": [
    "wrds.dataset[wrds.dataset['GICS_subindustry'] == '25502020']"
   ]
  },
  {
   "cell_type": "code",
   "execution_count": 9,
   "metadata": {},
   "outputs": [
    {
     "data": {
      "text/html": [
       "<div>\n",
       "<style scoped>\n",
       "    .dataframe tbody tr th:only-of-type {\n",
       "        vertical-align: middle;\n",
       "    }\n",
       "\n",
       "    .dataframe tbody tr th {\n",
       "        vertical-align: top;\n",
       "    }\n",
       "\n",
       "    .dataframe thead th {\n",
       "        text-align: right;\n",
       "    }\n",
       "</style>\n",
       "<table border=\"1\" class=\"dataframe\">\n",
       "  <thead>\n",
       "    <tr style=\"text-align: right;\">\n",
       "      <th></th>\n",
       "      <th>gvkey</th>\n",
       "      <th>name</th>\n",
       "      <th>SIC</th>\n",
       "      <th>NAICS</th>\n",
       "      <th>GICS_group</th>\n",
       "      <th>GICS_industry</th>\n",
       "      <th>GICS_sector</th>\n",
       "      <th>GICS_subindustry</th>\n",
       "    </tr>\n",
       "  </thead>\n",
       "  <tbody>\n",
       "    <tr>\n",
       "      <th>0</th>\n",
       "      <td>002184</td>\n",
       "      <td>Best Buy Co Inc</td>\n",
       "      <td>5731</td>\n",
       "      <td>443142</td>\n",
       "      <td>2550</td>\n",
       "      <td>255040</td>\n",
       "      <td>25</td>\n",
       "      <td>25504020</td>\n",
       "    </tr>\n",
       "    <tr>\n",
       "      <th>1</th>\n",
       "      <td>002290</td>\n",
       "      <td>Officemax Inc</td>\n",
       "      <td>5110</td>\n",
       "      <td>424120</td>\n",
       "      <td>2550</td>\n",
       "      <td>255040</td>\n",
       "      <td>25</td>\n",
       "      <td>25504040</td>\n",
       "    </tr>\n",
       "    <tr>\n",
       "      <th>2</th>\n",
       "      <td>003054</td>\n",
       "      <td>Circuit City Stores Inc</td>\n",
       "      <td>5731</td>\n",
       "      <td>443112</td>\n",
       "      <td>2550</td>\n",
       "      <td>255040</td>\n",
       "      <td>25</td>\n",
       "      <td>25504020</td>\n",
       "    </tr>\n",
       "  </tbody>\n",
       "</table>\n",
       "</div>"
      ],
      "text/plain": [
       "    gvkey                     name   SIC   NAICS GICS_group GICS_industry  \\\n",
       "0  002184          Best Buy Co Inc  5731  443142       2550        255040   \n",
       "1  002290            Officemax Inc  5110  424120       2550        255040   \n",
       "2  003054  Circuit City Stores Inc  5731  443112       2550        255040   \n",
       "\n",
       "  GICS_sector GICS_subindustry  \n",
       "0          25         25504020  \n",
       "1          25         25504040  \n",
       "2          25         25504020  "
      ]
     },
     "execution_count": 9,
     "metadata": {},
     "output_type": "execute_result"
    }
   ],
   "source": [
    "wrds.dataset = wrds.dataset[wrds.dataset['GICS_subindustry'] != '25502020']\n",
    "wrds.dataset = wrds.dataset.reset_index(drop=True)\n",
    "wrds.dataset.head(3)"
   ]
  },
  {
   "cell_type": "markdown",
   "metadata": {},
   "source": [
    "## 1.3 Add executives data"
   ]
  },
  {
   "cell_type": "markdown",
   "metadata": {},
   "source": [
    "Set observation period."
   ]
  },
  {
   "cell_type": "code",
   "execution_count": 10,
   "metadata": {},
   "outputs": [],
   "source": [
    "wrds.set_observation_period(start_date=date(year=2006, month=1, day=1), \n",
    "                            end_date=date(year=2018, month=12, day=31))"
   ]
  },
  {
   "cell_type": "code",
   "execution_count": 11,
   "metadata": {},
   "outputs": [
    {
     "data": {
      "text/plain": [
       "43"
      ]
     },
     "execution_count": 11,
     "metadata": {},
     "output_type": "execute_result"
    }
   ],
   "source": [
    "len(wrds.dataset)"
   ]
  },
  {
   "cell_type": "code",
   "execution_count": 12,
   "metadata": {},
   "outputs": [
    {
     "data": {
      "text/html": [
       "<div>\n",
       "<style scoped>\n",
       "    .dataframe tbody tr th:only-of-type {\n",
       "        vertical-align: middle;\n",
       "    }\n",
       "\n",
       "    .dataframe tbody tr th {\n",
       "        vertical-align: top;\n",
       "    }\n",
       "\n",
       "    .dataframe thead th {\n",
       "        text-align: right;\n",
       "    }\n",
       "</style>\n",
       "<table border=\"1\" class=\"dataframe\">\n",
       "  <thead>\n",
       "    <tr style=\"text-align: right;\">\n",
       "      <th></th>\n",
       "      <th>gvkey</th>\n",
       "      <th>name</th>\n",
       "      <th>SIC</th>\n",
       "      <th>NAICS</th>\n",
       "      <th>GICS_group</th>\n",
       "      <th>GICS_industry</th>\n",
       "      <th>GICS_sector</th>\n",
       "      <th>GICS_subindustry</th>\n",
       "      <th>execid</th>\n",
       "      <th>year</th>\n",
       "    </tr>\n",
       "  </thead>\n",
       "  <tbody>\n",
       "    <tr>\n",
       "      <th>0</th>\n",
       "      <td>002184</td>\n",
       "      <td>Best Buy Co Inc</td>\n",
       "      <td>5731</td>\n",
       "      <td>443142</td>\n",
       "      <td>2550</td>\n",
       "      <td>255040</td>\n",
       "      <td>25</td>\n",
       "      <td>25504020</td>\n",
       "      <td>06175</td>\n",
       "      <td>2006</td>\n",
       "    </tr>\n",
       "    <tr>\n",
       "      <th>1</th>\n",
       "      <td>002184</td>\n",
       "      <td>Best Buy Co Inc</td>\n",
       "      <td>5731</td>\n",
       "      <td>443142</td>\n",
       "      <td>2550</td>\n",
       "      <td>255040</td>\n",
       "      <td>25</td>\n",
       "      <td>25504020</td>\n",
       "      <td>06175</td>\n",
       "      <td>2007</td>\n",
       "    </tr>\n",
       "    <tr>\n",
       "      <th>2</th>\n",
       "      <td>002184</td>\n",
       "      <td>Best Buy Co Inc</td>\n",
       "      <td>5731</td>\n",
       "      <td>443142</td>\n",
       "      <td>2550</td>\n",
       "      <td>255040</td>\n",
       "      <td>25</td>\n",
       "      <td>25504020</td>\n",
       "      <td>06175</td>\n",
       "      <td>2008</td>\n",
       "    </tr>\n",
       "    <tr>\n",
       "      <th>3</th>\n",
       "      <td>002184</td>\n",
       "      <td>Best Buy Co Inc</td>\n",
       "      <td>5731</td>\n",
       "      <td>443142</td>\n",
       "      <td>2550</td>\n",
       "      <td>255040</td>\n",
       "      <td>25</td>\n",
       "      <td>25504020</td>\n",
       "      <td>06175</td>\n",
       "      <td>2009</td>\n",
       "    </tr>\n",
       "    <tr>\n",
       "      <th>4</th>\n",
       "      <td>002184</td>\n",
       "      <td>Best Buy Co Inc</td>\n",
       "      <td>5731</td>\n",
       "      <td>443142</td>\n",
       "      <td>2550</td>\n",
       "      <td>255040</td>\n",
       "      <td>25</td>\n",
       "      <td>25504020</td>\n",
       "      <td>13283</td>\n",
       "      <td>2006</td>\n",
       "    </tr>\n",
       "  </tbody>\n",
       "</table>\n",
       "</div>"
      ],
      "text/plain": [
       "    gvkey             name   SIC   NAICS GICS_group GICS_industry GICS_sector  \\\n",
       "0  002184  Best Buy Co Inc  5731  443142       2550        255040          25   \n",
       "1  002184  Best Buy Co Inc  5731  443142       2550        255040          25   \n",
       "2  002184  Best Buy Co Inc  5731  443142       2550        255040          25   \n",
       "3  002184  Best Buy Co Inc  5731  443142       2550        255040          25   \n",
       "4  002184  Best Buy Co Inc  5731  443142       2550        255040          25   \n",
       "\n",
       "  GICS_subindustry execid  year  \n",
       "0         25504020  06175  2006  \n",
       "1         25504020  06175  2007  \n",
       "2         25504020  06175  2008  \n",
       "3         25504020  06175  2009  \n",
       "4         25504020  13283  2006  "
      ]
     },
     "execution_count": 12,
     "metadata": {},
     "output_type": "execute_result"
    }
   ],
   "source": [
    "wrds.add_executives()\n",
    "\n",
    "wrds.head()"
   ]
  },
  {
   "cell_type": "code",
   "execution_count": 13,
   "metadata": {},
   "outputs": [
    {
     "data": {
      "text/plain": [
       "2676"
      ]
     },
     "execution_count": 13,
     "metadata": {},
     "output_type": "execute_result"
    }
   ],
   "source": [
    "len(wrds.dataset)"
   ]
  },
  {
   "cell_type": "code",
   "execution_count": 14,
   "metadata": {},
   "outputs": [
    {
     "name": "stdout",
     "output_type": "stream",
     "text": [
      "Executives already added to the dataset. Executives will not be merged in again.\n",
      "Added the following info on executives: ['personnel_full_name', 'personnel_is_ceo']\n"
     ]
    }
   ],
   "source": [
    "wrds.add_executive_info(add_ceo_flag=True, add_full_name=True)"
   ]
  },
  {
   "cell_type": "code",
   "execution_count": 15,
   "metadata": {},
   "outputs": [
    {
     "data": {
      "text/plain": [
       "2676"
      ]
     },
     "execution_count": 15,
     "metadata": {},
     "output_type": "execute_result"
    }
   ],
   "source": [
    "len(wrds.dataset)"
   ]
  },
  {
   "cell_type": "code",
   "execution_count": 16,
   "metadata": {},
   "outputs": [
    {
     "data": {
      "text/html": [
       "<div>\n",
       "<style scoped>\n",
       "    .dataframe tbody tr th:only-of-type {\n",
       "        vertical-align: middle;\n",
       "    }\n",
       "\n",
       "    .dataframe tbody tr th {\n",
       "        vertical-align: top;\n",
       "    }\n",
       "\n",
       "    .dataframe thead th {\n",
       "        text-align: right;\n",
       "    }\n",
       "</style>\n",
       "<table border=\"1\" class=\"dataframe\">\n",
       "  <thead>\n",
       "    <tr style=\"text-align: right;\">\n",
       "      <th></th>\n",
       "      <th>gvkey</th>\n",
       "      <th>name</th>\n",
       "      <th>SIC</th>\n",
       "      <th>NAICS</th>\n",
       "      <th>GICS_group</th>\n",
       "      <th>GICS_industry</th>\n",
       "      <th>GICS_sector</th>\n",
       "      <th>GICS_subindustry</th>\n",
       "      <th>execid</th>\n",
       "      <th>year</th>\n",
       "      <th>personnel_full_name</th>\n",
       "      <th>personnel_is_ceo</th>\n",
       "    </tr>\n",
       "  </thead>\n",
       "  <tbody>\n",
       "    <tr>\n",
       "      <th>0</th>\n",
       "      <td>002184</td>\n",
       "      <td>Best Buy Co Inc</td>\n",
       "      <td>5731</td>\n",
       "      <td>443142</td>\n",
       "      <td>2550</td>\n",
       "      <td>255040</td>\n",
       "      <td>25</td>\n",
       "      <td>25504020</td>\n",
       "      <td>06175</td>\n",
       "      <td>2006</td>\n",
       "      <td>Bradbury H. Anderson</td>\n",
       "      <td>True</td>\n",
       "    </tr>\n",
       "    <tr>\n",
       "      <th>1</th>\n",
       "      <td>002184</td>\n",
       "      <td>Best Buy Co Inc</td>\n",
       "      <td>5731</td>\n",
       "      <td>443142</td>\n",
       "      <td>2550</td>\n",
       "      <td>255040</td>\n",
       "      <td>25</td>\n",
       "      <td>25504020</td>\n",
       "      <td>06175</td>\n",
       "      <td>2007</td>\n",
       "      <td>Bradbury H. Anderson</td>\n",
       "      <td>True</td>\n",
       "    </tr>\n",
       "    <tr>\n",
       "      <th>2</th>\n",
       "      <td>002184</td>\n",
       "      <td>Best Buy Co Inc</td>\n",
       "      <td>5731</td>\n",
       "      <td>443142</td>\n",
       "      <td>2550</td>\n",
       "      <td>255040</td>\n",
       "      <td>25</td>\n",
       "      <td>25504020</td>\n",
       "      <td>06175</td>\n",
       "      <td>2008</td>\n",
       "      <td>Bradbury H. Anderson</td>\n",
       "      <td>True</td>\n",
       "    </tr>\n",
       "    <tr>\n",
       "      <th>3</th>\n",
       "      <td>002184</td>\n",
       "      <td>Best Buy Co Inc</td>\n",
       "      <td>5731</td>\n",
       "      <td>443142</td>\n",
       "      <td>2550</td>\n",
       "      <td>255040</td>\n",
       "      <td>25</td>\n",
       "      <td>25504020</td>\n",
       "      <td>06175</td>\n",
       "      <td>2009</td>\n",
       "      <td>Bradbury H. Anderson</td>\n",
       "      <td>False</td>\n",
       "    </tr>\n",
       "    <tr>\n",
       "      <th>4</th>\n",
       "      <td>002184</td>\n",
       "      <td>Best Buy Co Inc</td>\n",
       "      <td>5731</td>\n",
       "      <td>443142</td>\n",
       "      <td>2550</td>\n",
       "      <td>255040</td>\n",
       "      <td>25</td>\n",
       "      <td>25504020</td>\n",
       "      <td>13283</td>\n",
       "      <td>2006</td>\n",
       "      <td>Darren R. Jackson</td>\n",
       "      <td>False</td>\n",
       "    </tr>\n",
       "  </tbody>\n",
       "</table>\n",
       "</div>"
      ],
      "text/plain": [
       "    gvkey             name   SIC   NAICS GICS_group GICS_industry GICS_sector  \\\n",
       "0  002184  Best Buy Co Inc  5731  443142       2550        255040          25   \n",
       "1  002184  Best Buy Co Inc  5731  443142       2550        255040          25   \n",
       "2  002184  Best Buy Co Inc  5731  443142       2550        255040          25   \n",
       "3  002184  Best Buy Co Inc  5731  443142       2550        255040          25   \n",
       "4  002184  Best Buy Co Inc  5731  443142       2550        255040          25   \n",
       "\n",
       "  GICS_subindustry execid  year   personnel_full_name  personnel_is_ceo  \n",
       "0         25504020  06175  2006  Bradbury H. Anderson              True  \n",
       "1         25504020  06175  2007  Bradbury H. Anderson              True  \n",
       "2         25504020  06175  2008  Bradbury H. Anderson              True  \n",
       "3         25504020  06175  2009  Bradbury H. Anderson             False  \n",
       "4         25504020  13283  2006     Darren R. Jackson             False  "
      ]
     },
     "execution_count": 16,
     "metadata": {},
     "output_type": "execute_result"
    }
   ],
   "source": [
    "wrds.head()"
   ]
  },
  {
   "cell_type": "markdown",
   "metadata": {},
   "source": [
    "## 1.4 Output dataframe as .feather"
   ]
  },
  {
   "cell_type": "markdown",
   "metadata": {},
   "source": [
    "The .feather format allows us to further manipulate the dataframe in R without having to specify column types again."
   ]
  },
  {
   "cell_type": "code",
   "execution_count": 17,
   "metadata": {},
   "outputs": [],
   "source": [
    "selection = wrds.return_dataframe()"
   ]
  },
  {
   "cell_type": "markdown",
   "metadata": {},
   "source": [
    "We transform the year column to datatype 'object' (character strings) because feather cannot handle pandas 'Int64' datatype yet."
   ]
  },
  {
   "cell_type": "code",
   "execution_count": 18,
   "metadata": {},
   "outputs": [],
   "source": [
    "selection['year'] = selection['year'].astype('object')"
   ]
  },
  {
   "cell_type": "code",
   "execution_count": 19,
   "metadata": {},
   "outputs": [],
   "source": [
    "from datetime import date\n",
    "\n",
    "selection.to_feather('downloads/sample {}.feather'.format(str(date.today())))"
   ]
  }
 ],
 "metadata": {
  "kernelspec": {
   "display_name": "corporate_disruptions",
   "language": "python",
   "name": "corporate_disruptions"
  },
  "language_info": {
   "codemirror_mode": {
    "name": "ipython",
    "version": 3
   },
   "file_extension": ".py",
   "mimetype": "text/x-python",
   "name": "python",
   "nbconvert_exporter": "python",
   "pygments_lexer": "ipython3",
   "version": "3.6.7"
  },
  "varInspector": {
   "cols": {
    "lenName": 16,
    "lenType": 16,
    "lenVar": 40
   },
   "kernels_config": {
    "python": {
     "delete_cmd_postfix": "",
     "delete_cmd_prefix": "del ",
     "library": "var_list.py",
     "varRefreshCmd": "print(var_dic_list())"
    },
    "r": {
     "delete_cmd_postfix": ") ",
     "delete_cmd_prefix": "rm(",
     "library": "var_list.r",
     "varRefreshCmd": "cat(var_dic_list()) "
    }
   },
   "types_to_exclude": [
    "module",
    "function",
    "builtin_function_or_method",
    "instance",
    "_Feature"
   ],
   "window_display": false
  }
 },
 "nbformat": 4,
 "nbformat_minor": 1
}
