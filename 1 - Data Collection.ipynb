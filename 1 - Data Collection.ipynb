{
 "cells": [
  {
   "cell_type": "markdown",
   "metadata": {},
   "source": [
    "# 1. Data collection"
   ]
  },
  {
   "cell_type": "markdown",
   "metadata": {},
   "source": [
    "## 1.1 Collect recall data from cpsc.gov"
   ]
  },
  {
   "cell_type": "code",
   "execution_count": 1,
   "metadata": {},
   "outputs": [],
   "source": [
    "%%bash\n",
    "    scrapy crawl CpscSpider -o downloads/cpsc.csv 2> downloads/cpsc_log.txt"
   ]
  },
  {
   "cell_type": "markdown",
   "metadata": {},
   "source": [
    "## 1.2 Collect company data from compustat"
   ]
  },
  {
   "cell_type": "code",
   "execution_count": 1,
   "metadata": {
    "scrolled": true
   },
   "outputs": [
    {
     "name": "stdout",
     "output_type": "stream",
     "text": [
      "placeholder\n"
     ]
    }
   ],
   "source": [
    "print('placeholder')"
   ]
  },
  {
   "cell_type": "code",
   "execution_count": 2,
   "metadata": {
    "scrolled": true
   },
   "outputs": [],
   "source": [
    "import wrds_tools"
   ]
  },
  {
   "cell_type": "code",
   "execution_count": 3,
   "metadata": {},
   "outputs": [
    {
     "name": "stderr",
     "output_type": "stream",
     "text": [
      "/home/julian/PycharmProjects/corporate_disruptions/venv/lib/python3.6/site-packages/psycopg2/__init__.py:144: UserWarning: The psycopg2 wheel package will be renamed from release 2.8; in order to keep installing from binary please use \"pip install psycopg2-binary\" instead. For details see: <http://initd.org/psycopg/docs/install.html#binary-install-from-pypi>.\n",
      "  \"\"\")\n"
     ]
    },
    {
     "name": "stdout",
     "output_type": "stream",
     "text": [
      "Loading library list...\n",
      "Done\n"
     ]
    }
   ],
   "source": [
    "import parameters\n",
    "\n",
    "wrds = wrds_tools.WrdsConnection(wrds_username=parameters.wrds_username)"
   ]
  },
  {
   "cell_type": "code",
   "execution_count": 4,
   "metadata": {},
   "outputs": [],
   "source": [
    "from datetime import date\n",
    "\n",
    "wrds.set_observation_period(start_date=date(year=2009, month=1, day=1), \n",
    "                            end_date=date(year=2018, month=12, day=31))"
   ]
  },
  {
   "cell_type": "code",
   "execution_count": 5,
   "metadata": {},
   "outputs": [],
   "source": [
    "wrds.build_sp500()"
   ]
  },
  {
   "cell_type": "code",
   "execution_count": 6,
   "metadata": {},
   "outputs": [],
   "source": [
    "wrds.add_industry_classifiers(get_GICS=True)"
   ]
  },
  {
   "cell_type": "code",
   "execution_count": 7,
   "metadata": {},
   "outputs": [],
   "source": [
    "wrds.add_names()"
   ]
  },
  {
   "cell_type": "code",
   "execution_count": 8,
   "metadata": {},
   "outputs": [
    {
     "data": {
      "text/html": [
       "<div>\n",
       "<style scoped>\n",
       "    .dataframe tbody tr th:only-of-type {\n",
       "        vertical-align: middle;\n",
       "    }\n",
       "\n",
       "    .dataframe tbody tr th {\n",
       "        vertical-align: top;\n",
       "    }\n",
       "\n",
       "    .dataframe thead th {\n",
       "        text-align: right;\n",
       "    }\n",
       "</style>\n",
       "<table border=\"1\" class=\"dataframe\">\n",
       "  <thead>\n",
       "    <tr style=\"text-align: right;\">\n",
       "      <th></th>\n",
       "      <th>gvkey</th>\n",
       "      <th>SIC</th>\n",
       "      <th>NAICS</th>\n",
       "      <th>GICS_group</th>\n",
       "      <th>GICS_industry</th>\n",
       "      <th>GICS_sector</th>\n",
       "      <th>GICS_subindustry</th>\n",
       "      <th>name</th>\n",
       "    </tr>\n",
       "  </thead>\n",
       "  <tbody>\n",
       "    <tr>\n",
       "      <th>0</th>\n",
       "      <td>001045</td>\n",
       "      <td>4512</td>\n",
       "      <td>481111</td>\n",
       "      <td>2030</td>\n",
       "      <td>203020</td>\n",
       "      <td>20</td>\n",
       "      <td>20302010</td>\n",
       "      <td>AMERICAN AIRLINES GROUP INC</td>\n",
       "    </tr>\n",
       "    <tr>\n",
       "      <th>1</th>\n",
       "      <td>001075</td>\n",
       "      <td>4911</td>\n",
       "      <td>2211</td>\n",
       "      <td>5510</td>\n",
       "      <td>551010</td>\n",
       "      <td>55</td>\n",
       "      <td>55101010</td>\n",
       "      <td>PINNACLE WEST CAPITAL CORP</td>\n",
       "    </tr>\n",
       "    <tr>\n",
       "      <th>2</th>\n",
       "      <td>001078</td>\n",
       "      <td>2834</td>\n",
       "      <td>325412</td>\n",
       "      <td>3510</td>\n",
       "      <td>351010</td>\n",
       "      <td>35</td>\n",
       "      <td>35101010</td>\n",
       "      <td>ABBOTT LABORATORIES</td>\n",
       "    </tr>\n",
       "    <tr>\n",
       "      <th>3</th>\n",
       "      <td>001161</td>\n",
       "      <td>3674</td>\n",
       "      <td>334413</td>\n",
       "      <td>4530</td>\n",
       "      <td>453010</td>\n",
       "      <td>45</td>\n",
       "      <td>45301020</td>\n",
       "      <td>ADVANCED MICRO DEVICES</td>\n",
       "    </tr>\n",
       "    <tr>\n",
       "      <th>4</th>\n",
       "      <td>001177</td>\n",
       "      <td>6324</td>\n",
       "      <td>524114</td>\n",
       "      <td>3510</td>\n",
       "      <td>351020</td>\n",
       "      <td>35</td>\n",
       "      <td>35102030</td>\n",
       "      <td>AETNA INC</td>\n",
       "    </tr>\n",
       "  </tbody>\n",
       "</table>\n",
       "</div>"
      ],
      "text/plain": [
       "    gvkey   SIC   NAICS GICS_group GICS_industry GICS_sector GICS_subindustry  \\\n",
       "0  001045  4512  481111       2030        203020          20         20302010   \n",
       "1  001075  4911    2211       5510        551010          55         55101010   \n",
       "2  001078  2834  325412       3510        351010          35         35101010   \n",
       "3  001161  3674  334413       4530        453010          45         45301020   \n",
       "4  001177  6324  524114       3510        351020          35         35102030   \n",
       "\n",
       "                          name  \n",
       "0  AMERICAN AIRLINES GROUP INC  \n",
       "1   PINNACLE WEST CAPITAL CORP  \n",
       "2          ABBOTT LABORATORIES  \n",
       "3       ADVANCED MICRO DEVICES  \n",
       "4                    AETNA INC  "
      ]
     },
     "execution_count": 8,
     "metadata": {},
     "output_type": "execute_result"
    }
   ],
   "source": [
    "wrds.dataset.head()"
   ]
  },
  {
   "cell_type": "markdown",
   "metadata": {},
   "source": [
    "### 1.2.1 Filter by industry"
   ]
  },
  {
   "cell_type": "markdown",
   "metadata": {},
   "source": [
    "We use the GICS industry classification system to filter. For an overview, see https://en.wikipedia.org/wiki/Global_Industry_Classification_Standard . Industry Group 2550 is Retailing."
   ]
  },
  {
   "cell_type": "code",
   "execution_count": 9,
   "metadata": {},
   "outputs": [],
   "source": [
    "wrds.filter_by_industry(industry_code='2550', classification_system='GICS_group')"
   ]
  },
  {
   "cell_type": "code",
   "execution_count": 10,
   "metadata": {},
   "outputs": [
    {
     "name": "stdout",
     "output_type": "stream",
     "text": [
      "Number of observations:  42\n"
     ]
    },
    {
     "data": {
      "text/html": [
       "<div>\n",
       "<style scoped>\n",
       "    .dataframe tbody tr th:only-of-type {\n",
       "        vertical-align: middle;\n",
       "    }\n",
       "\n",
       "    .dataframe tbody tr th {\n",
       "        vertical-align: top;\n",
       "    }\n",
       "\n",
       "    .dataframe thead th {\n",
       "        text-align: right;\n",
       "    }\n",
       "</style>\n",
       "<table border=\"1\" class=\"dataframe\">\n",
       "  <thead>\n",
       "    <tr style=\"text-align: right;\">\n",
       "      <th></th>\n",
       "      <th>index</th>\n",
       "      <th>gvkey</th>\n",
       "      <th>SIC</th>\n",
       "      <th>NAICS</th>\n",
       "      <th>GICS_group</th>\n",
       "      <th>GICS_industry</th>\n",
       "      <th>GICS_sector</th>\n",
       "      <th>GICS_subindustry</th>\n",
       "      <th>name</th>\n",
       "    </tr>\n",
       "  </thead>\n",
       "  <tbody>\n",
       "    <tr>\n",
       "      <th>0</th>\n",
       "      <td>41</td>\n",
       "      <td>002184</td>\n",
       "      <td>5731</td>\n",
       "      <td>443142</td>\n",
       "      <td>2550</td>\n",
       "      <td>255040</td>\n",
       "      <td>25</td>\n",
       "      <td>25504020</td>\n",
       "      <td>BEST BUY CO INC</td>\n",
       "    </tr>\n",
       "    <tr>\n",
       "      <th>1</th>\n",
       "      <td>83</td>\n",
       "      <td>003813</td>\n",
       "      <td>5331</td>\n",
       "      <td>452990</td>\n",
       "      <td>2550</td>\n",
       "      <td>255030</td>\n",
       "      <td>25</td>\n",
       "      <td>25503020</td>\n",
       "      <td>TARGET CORP</td>\n",
       "    </tr>\n",
       "    <tr>\n",
       "      <th>2</th>\n",
       "      <td>89</td>\n",
       "      <td>004016</td>\n",
       "      <td>5331</td>\n",
       "      <td>452990</td>\n",
       "      <td>2550</td>\n",
       "      <td>255030</td>\n",
       "      <td>25</td>\n",
       "      <td>25503020</td>\n",
       "      <td>DOLLAR GENERAL CORP</td>\n",
       "    </tr>\n",
       "    <tr>\n",
       "      <th>3</th>\n",
       "      <td>112</td>\n",
       "      <td>004560</td>\n",
       "      <td>5331</td>\n",
       "      <td>452990</td>\n",
       "      <td>2550</td>\n",
       "      <td>255030</td>\n",
       "      <td>25</td>\n",
       "      <td>25503020</td>\n",
       "      <td>FAMILY DOLLAR STORES</td>\n",
       "    </tr>\n",
       "    <tr>\n",
       "      <th>4</th>\n",
       "      <td>115</td>\n",
       "      <td>004611</td>\n",
       "      <td>5311</td>\n",
       "      <td>452111</td>\n",
       "      <td>2550</td>\n",
       "      <td>255030</td>\n",
       "      <td>25</td>\n",
       "      <td>25503010</td>\n",
       "      <td>MACY'S INC</td>\n",
       "    </tr>\n",
       "  </tbody>\n",
       "</table>\n",
       "</div>"
      ],
      "text/plain": [
       "   index   gvkey   SIC   NAICS GICS_group GICS_industry GICS_sector  \\\n",
       "0     41  002184  5731  443142       2550        255040          25   \n",
       "1     83  003813  5331  452990       2550        255030          25   \n",
       "2     89  004016  5331  452990       2550        255030          25   \n",
       "3    112  004560  5331  452990       2550        255030          25   \n",
       "4    115  004611  5311  452111       2550        255030          25   \n",
       "\n",
       "  GICS_subindustry                  name  \n",
       "0         25504020       BEST BUY CO INC  \n",
       "1         25503020           TARGET CORP  \n",
       "2         25503020   DOLLAR GENERAL CORP  \n",
       "3         25503020  FAMILY DOLLAR STORES  \n",
       "4         25503010            MACY'S INC  "
      ]
     },
     "execution_count": 10,
     "metadata": {},
     "output_type": "execute_result"
    }
   ],
   "source": [
    "print('Number of observations: ', len(wrds.dataset))\n",
    "\n",
    "wrds.dataset.head()"
   ]
  },
  {
   "cell_type": "code",
   "execution_count": null,
   "metadata": {},
   "outputs": [],
   "source": []
  }
 ],
 "metadata": {
  "kernelspec": {
   "display_name": "corporate_disruptions",
   "language": "python",
   "name": "corporate_disruptions"
  },
  "language_info": {
   "codemirror_mode": {
    "name": "ipython",
    "version": 3
   },
   "file_extension": ".py",
   "mimetype": "text/x-python",
   "name": "python",
   "nbconvert_exporter": "python",
   "pygments_lexer": "ipython3",
   "version": "3.6.7"
  },
  "varInspector": {
   "cols": {
    "lenName": 16,
    "lenType": 16,
    "lenVar": 40
   },
   "kernels_config": {
    "python": {
     "delete_cmd_postfix": "",
     "delete_cmd_prefix": "del ",
     "library": "var_list.py",
     "varRefreshCmd": "print(var_dic_list())"
    },
    "r": {
     "delete_cmd_postfix": ") ",
     "delete_cmd_prefix": "rm(",
     "library": "var_list.r",
     "varRefreshCmd": "cat(var_dic_list()) "
    }
   },
   "types_to_exclude": [
    "module",
    "function",
    "builtin_function_or_method",
    "instance",
    "_Feature"
   ],
   "window_display": false
  }
 },
 "nbformat": 4,
 "nbformat_minor": 1
}
