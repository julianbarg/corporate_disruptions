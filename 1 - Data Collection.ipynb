{
 "cells": [
  {
   "cell_type": "markdown",
   "metadata": {},
   "source": [
    "# 1. Data collection"
   ]
  },
  {
   "cell_type": "markdown",
   "metadata": {},
   "source": [
    "## 1.1 Collect recall data from cpsc.gov"
   ]
  },
  {
   "cell_type": "code",
   "execution_count": 1,
   "metadata": {},
   "outputs": [],
   "source": [
    "%%bash\n",
    "    scrapy crawl CpscSpider -o downloads/cpsc.csv 2> downloads/cpsc_log.txt"
   ]
  },
  {
   "cell_type": "markdown",
   "metadata": {},
   "source": [
    "## 1.2 Collect company data from compustat"
   ]
  },
  {
   "cell_type": "code",
   "execution_count": 1,
   "metadata": {
    "scrolled": true
   },
   "outputs": [
    {
     "name": "stdout",
     "output_type": "stream",
     "text": [
      "placeholder\n"
     ]
    }
   ],
   "source": [
    "print('placeholder')"
   ]
  },
  {
   "cell_type": "markdown",
   "metadata": {},
   "source": [
    "First, we setup our connection to the wrds database."
   ]
  },
  {
   "cell_type": "code",
   "execution_count": 2,
   "metadata": {},
   "outputs": [
    {
     "name": "stderr",
     "output_type": "stream",
     "text": [
      "/home/julian/PycharmProjects/corporate_disruptions/venv/lib/python3.6/site-packages/psycopg2/__init__.py:144: UserWarning: The psycopg2 wheel package will be renamed from release 2.8; in order to keep installing from binary please use \"pip install psycopg2-binary\" instead. For details see: <http://initd.org/psycopg/docs/install.html#binary-install-from-pypi>.\n",
      "  \"\"\")\n"
     ]
    },
    {
     "name": "stdout",
     "output_type": "stream",
     "text": [
      "Loading library list...\n",
      "Done\n"
     ]
    }
   ],
   "source": [
    "import wrds_tools\n",
    "import parameters\n",
    "\n",
    "wrds = wrds_tools.WrdsConnection(wrds_username=parameters.wrds_username)"
   ]
  },
  {
   "cell_type": "markdown",
   "metadata": {},
   "source": [
    "Setup observation period and grab the basic info we need."
   ]
  },
  {
   "cell_type": "code",
   "execution_count": 3,
   "metadata": {},
   "outputs": [],
   "source": [
    "from datetime import date\n",
    "\n",
    "wrds.set_observation_period(start_date=date(year=2009, month=1, day=1), \n",
    "                            end_date=date(year=2018, month=12, day=31))\n",
    "wrds.build_sp500()"
   ]
  },
  {
   "cell_type": "code",
   "execution_count": 4,
   "metadata": {},
   "outputs": [],
   "source": [
    "wrds.add_names()\n",
    "\n",
    "wrds.add_industry_classifiers(get_GICS=True)"
   ]
  },
  {
   "cell_type": "code",
   "execution_count": 5,
   "metadata": {
    "scrolled": true
   },
   "outputs": [
    {
     "data": {
      "text/html": [
       "<div>\n",
       "<style scoped>\n",
       "    .dataframe tbody tr th:only-of-type {\n",
       "        vertical-align: middle;\n",
       "    }\n",
       "\n",
       "    .dataframe tbody tr th {\n",
       "        vertical-align: top;\n",
       "    }\n",
       "\n",
       "    .dataframe thead th {\n",
       "        text-align: right;\n",
       "    }\n",
       "</style>\n",
       "<table border=\"1\" class=\"dataframe\">\n",
       "  <thead>\n",
       "    <tr style=\"text-align: right;\">\n",
       "      <th></th>\n",
       "      <th>gvkey</th>\n",
       "      <th>name</th>\n",
       "      <th>SIC</th>\n",
       "      <th>NAICS</th>\n",
       "      <th>GICS_group</th>\n",
       "      <th>GICS_industry</th>\n",
       "      <th>GICS_sector</th>\n",
       "      <th>GICS_subindustry</th>\n",
       "    </tr>\n",
       "  </thead>\n",
       "  <tbody>\n",
       "    <tr>\n",
       "      <th>0</th>\n",
       "      <td>001045</td>\n",
       "      <td>AMERICAN AIRLINES GROUP INC</td>\n",
       "      <td>4512</td>\n",
       "      <td>481111</td>\n",
       "      <td>2030</td>\n",
       "      <td>203020</td>\n",
       "      <td>20</td>\n",
       "      <td>20302010</td>\n",
       "    </tr>\n",
       "    <tr>\n",
       "      <th>1</th>\n",
       "      <td>001075</td>\n",
       "      <td>PINNACLE WEST CAPITAL CORP</td>\n",
       "      <td>4911</td>\n",
       "      <td>2211</td>\n",
       "      <td>5510</td>\n",
       "      <td>551010</td>\n",
       "      <td>55</td>\n",
       "      <td>55101010</td>\n",
       "    </tr>\n",
       "    <tr>\n",
       "      <th>2</th>\n",
       "      <td>001078</td>\n",
       "      <td>ABBOTT LABORATORIES</td>\n",
       "      <td>2834</td>\n",
       "      <td>325412</td>\n",
       "      <td>3510</td>\n",
       "      <td>351010</td>\n",
       "      <td>35</td>\n",
       "      <td>35101010</td>\n",
       "    </tr>\n",
       "    <tr>\n",
       "      <th>3</th>\n",
       "      <td>001161</td>\n",
       "      <td>ADVANCED MICRO DEVICES</td>\n",
       "      <td>3674</td>\n",
       "      <td>334413</td>\n",
       "      <td>4530</td>\n",
       "      <td>453010</td>\n",
       "      <td>45</td>\n",
       "      <td>45301020</td>\n",
       "    </tr>\n",
       "    <tr>\n",
       "      <th>4</th>\n",
       "      <td>001177</td>\n",
       "      <td>AETNA INC</td>\n",
       "      <td>6324</td>\n",
       "      <td>524114</td>\n",
       "      <td>3510</td>\n",
       "      <td>351020</td>\n",
       "      <td>35</td>\n",
       "      <td>35102030</td>\n",
       "    </tr>\n",
       "  </tbody>\n",
       "</table>\n",
       "</div>"
      ],
      "text/plain": [
       "    gvkey                         name   SIC   NAICS GICS_group GICS_industry  \\\n",
       "0  001045  AMERICAN AIRLINES GROUP INC  4512  481111       2030        203020   \n",
       "1  001075   PINNACLE WEST CAPITAL CORP  4911    2211       5510        551010   \n",
       "2  001078          ABBOTT LABORATORIES  2834  325412       3510        351010   \n",
       "3  001161       ADVANCED MICRO DEVICES  3674  334413       4530        453010   \n",
       "4  001177                    AETNA INC  6324  524114       3510        351020   \n",
       "\n",
       "  GICS_sector GICS_subindustry  \n",
       "0          20         20302010  \n",
       "1          55         55101010  \n",
       "2          35         35101010  \n",
       "3          45         45301020  \n",
       "4          35         35102030  "
      ]
     },
     "execution_count": 5,
     "metadata": {},
     "output_type": "execute_result"
    }
   ],
   "source": [
    "wrds.dataset.head()"
   ]
  },
  {
   "cell_type": "markdown",
   "metadata": {},
   "source": [
    "### 1.2.1 Filter by industry"
   ]
  },
  {
   "cell_type": "markdown",
   "metadata": {},
   "source": [
    "We use the GICS industry classification system to filter. For an overview, see https://en.wikipedia.org/wiki/Global_Industry_Classification_Standard . Industry Group 2550 is Retailing."
   ]
  },
  {
   "cell_type": "code",
   "execution_count": 6,
   "metadata": {},
   "outputs": [],
   "source": [
    "wrds.filter_by_industry(industry_code='2550', classification_system='GICS_group')"
   ]
  },
  {
   "cell_type": "code",
   "execution_count": 7,
   "metadata": {},
   "outputs": [
    {
     "name": "stdout",
     "output_type": "stream",
     "text": [
      "Number of observations:  42 \n",
      "\n",
      "----------------\n",
      "\n",
      "0                Best Buy Co Inc\n",
      "1                    Target Corp\n",
      "2            Dollar General Corp\n",
      "3           Family Dollar Stores\n",
      "4                     Macy'S Inc\n",
      "5                        Gap Inc\n",
      "6               Genuine Parts Co\n",
      "7                 Home Depot Inc\n",
      "8            Sears Holdings Corp\n",
      "9                   L Brands Inc\n",
      "10          Lowe'S Companies Inc\n",
      "11                 Nordstrom Inc\n",
      "12               Penney (J C) Co\n",
      "13                Autonation Inc\n",
      "14               Ross Stores Inc\n",
      "15                Rs Legacy Corp\n",
      "16               Foot Locker Inc\n",
      "17             Tjx Companies Inc\n",
      "18                  Big Lots Inc\n",
      "19                  Tiffany & Co\n",
      "20              Office Depot Inc\n",
      "21           Signet Jewelers Ltd\n",
      "22                   Staples Inc\n",
      "23                  Autozone Inc\n",
      "24                   Kohl'S Corp\n",
      "25         Bed Bath & Beyond Inc\n",
      "26       O'Reilly Automotive Inc\n",
      "27                  Petsmart Inc\n",
      "28          Urban Outfitters Inc\n",
      "29             Tractor Supply Co\n",
      "30               Dollar Tree Inc\n",
      "31    Abercrombie & Fitch  -Cl A\n",
      "32                    Carmax Inc\n",
      "33                Amazon.Com Inc\n",
      "34          Booking Holdings Inc\n",
      "35             Expedia Group Inc\n",
      "36                 Gamestop Corp\n",
      "37        Advance Auto Parts Inc\n",
      "38                   Netflix Inc\n",
      "39                      Lkq Corp\n",
      "40               Ulta Beauty Inc\n",
      "41               Tripadvisor Inc\n",
      "Name: name, dtype: object\n"
     ]
    },
    {
     "data": {
      "text/html": [
       "<div>\n",
       "<style scoped>\n",
       "    .dataframe tbody tr th:only-of-type {\n",
       "        vertical-align: middle;\n",
       "    }\n",
       "\n",
       "    .dataframe tbody tr th {\n",
       "        vertical-align: top;\n",
       "    }\n",
       "\n",
       "    .dataframe thead th {\n",
       "        text-align: right;\n",
       "    }\n",
       "</style>\n",
       "<table border=\"1\" class=\"dataframe\">\n",
       "  <thead>\n",
       "    <tr style=\"text-align: right;\">\n",
       "      <th></th>\n",
       "      <th>index</th>\n",
       "      <th>gvkey</th>\n",
       "      <th>name</th>\n",
       "      <th>SIC</th>\n",
       "      <th>NAICS</th>\n",
       "      <th>GICS_group</th>\n",
       "      <th>GICS_industry</th>\n",
       "      <th>GICS_sector</th>\n",
       "      <th>GICS_subindustry</th>\n",
       "    </tr>\n",
       "  </thead>\n",
       "  <tbody>\n",
       "    <tr>\n",
       "      <th>0</th>\n",
       "      <td>41</td>\n",
       "      <td>002184</td>\n",
       "      <td>Best Buy Co Inc</td>\n",
       "      <td>5731</td>\n",
       "      <td>443142</td>\n",
       "      <td>2550</td>\n",
       "      <td>255040</td>\n",
       "      <td>25</td>\n",
       "      <td>25504020</td>\n",
       "    </tr>\n",
       "    <tr>\n",
       "      <th>1</th>\n",
       "      <td>83</td>\n",
       "      <td>003813</td>\n",
       "      <td>Target Corp</td>\n",
       "      <td>5331</td>\n",
       "      <td>452990</td>\n",
       "      <td>2550</td>\n",
       "      <td>255030</td>\n",
       "      <td>25</td>\n",
       "      <td>25503020</td>\n",
       "    </tr>\n",
       "    <tr>\n",
       "      <th>2</th>\n",
       "      <td>89</td>\n",
       "      <td>004016</td>\n",
       "      <td>Dollar General Corp</td>\n",
       "      <td>5331</td>\n",
       "      <td>452990</td>\n",
       "      <td>2550</td>\n",
       "      <td>255030</td>\n",
       "      <td>25</td>\n",
       "      <td>25503020</td>\n",
       "    </tr>\n",
       "    <tr>\n",
       "      <th>3</th>\n",
       "      <td>112</td>\n",
       "      <td>004560</td>\n",
       "      <td>Family Dollar Stores</td>\n",
       "      <td>5331</td>\n",
       "      <td>452990</td>\n",
       "      <td>2550</td>\n",
       "      <td>255030</td>\n",
       "      <td>25</td>\n",
       "      <td>25503020</td>\n",
       "    </tr>\n",
       "    <tr>\n",
       "      <th>4</th>\n",
       "      <td>115</td>\n",
       "      <td>004611</td>\n",
       "      <td>Macy'S Inc</td>\n",
       "      <td>5311</td>\n",
       "      <td>452111</td>\n",
       "      <td>2550</td>\n",
       "      <td>255030</td>\n",
       "      <td>25</td>\n",
       "      <td>25503010</td>\n",
       "    </tr>\n",
       "  </tbody>\n",
       "</table>\n",
       "</div>"
      ],
      "text/plain": [
       "   index   gvkey                  name   SIC   NAICS GICS_group GICS_industry  \\\n",
       "0     41  002184       Best Buy Co Inc  5731  443142       2550        255040   \n",
       "1     83  003813           Target Corp  5331  452990       2550        255030   \n",
       "2     89  004016   Dollar General Corp  5331  452990       2550        255030   \n",
       "3    112  004560  Family Dollar Stores  5331  452990       2550        255030   \n",
       "4    115  004611            Macy'S Inc  5311  452111       2550        255030   \n",
       "\n",
       "  GICS_sector GICS_subindustry  \n",
       "0          25         25504020  \n",
       "1          25         25503020  \n",
       "2          25         25503020  \n",
       "3          25         25503020  \n",
       "4          25         25503010  "
      ]
     },
     "execution_count": 7,
     "metadata": {},
     "output_type": "execute_result"
    }
   ],
   "source": [
    "wrds.dataset['name'] = wrds.dataset['name'].apply(str.title)\n",
    "\n",
    "print('Number of observations: ', len(wrds.dataset),\n",
    "      '\\n\\n----------------\\n')\n",
    "print(wrds.dataset['name'])\n",
    "wrds.dataset.head()"
   ]
  },
  {
   "cell_type": "markdown",
   "metadata": {},
   "source": [
    "### 1.2.2 Filter out Internet & Direct Marketing Retail"
   ]
  },
  {
   "cell_type": "markdown",
   "metadata": {},
   "source": [
    "GICS Sub-Industry 25502020."
   ]
  },
  {
   "cell_type": "code",
   "execution_count": 8,
   "metadata": {},
   "outputs": [
    {
     "data": {
      "text/html": [
       "<div>\n",
       "<style scoped>\n",
       "    .dataframe tbody tr th:only-of-type {\n",
       "        vertical-align: middle;\n",
       "    }\n",
       "\n",
       "    .dataframe tbody tr th {\n",
       "        vertical-align: top;\n",
       "    }\n",
       "\n",
       "    .dataframe thead th {\n",
       "        text-align: right;\n",
       "    }\n",
       "</style>\n",
       "<table border=\"1\" class=\"dataframe\">\n",
       "  <thead>\n",
       "    <tr style=\"text-align: right;\">\n",
       "      <th></th>\n",
       "      <th>index</th>\n",
       "      <th>gvkey</th>\n",
       "      <th>name</th>\n",
       "      <th>SIC</th>\n",
       "      <th>NAICS</th>\n",
       "      <th>GICS_group</th>\n",
       "      <th>GICS_industry</th>\n",
       "      <th>GICS_sector</th>\n",
       "      <th>GICS_subindustry</th>\n",
       "    </tr>\n",
       "  </thead>\n",
       "  <tbody>\n",
       "    <tr>\n",
       "      <th>33</th>\n",
       "      <td>562</td>\n",
       "      <td>064768</td>\n",
       "      <td>Amazon.Com Inc</td>\n",
       "      <td>5961</td>\n",
       "      <td>454111</td>\n",
       "      <td>2550</td>\n",
       "      <td>255020</td>\n",
       "      <td>25</td>\n",
       "      <td>25502020</td>\n",
       "    </tr>\n",
       "    <tr>\n",
       "      <th>34</th>\n",
       "      <td>594</td>\n",
       "      <td>119314</td>\n",
       "      <td>Booking Holdings Inc</td>\n",
       "      <td>7370</td>\n",
       "      <td>519130</td>\n",
       "      <td>2550</td>\n",
       "      <td>255020</td>\n",
       "      <td>25</td>\n",
       "      <td>25502020</td>\n",
       "    </tr>\n",
       "    <tr>\n",
       "      <th>35</th>\n",
       "      <td>607</td>\n",
       "      <td>126296</td>\n",
       "      <td>Expedia Group Inc</td>\n",
       "      <td>4700</td>\n",
       "      <td>561510</td>\n",
       "      <td>2550</td>\n",
       "      <td>255020</td>\n",
       "      <td>25</td>\n",
       "      <td>25502020</td>\n",
       "    </tr>\n",
       "    <tr>\n",
       "      <th>38</th>\n",
       "      <td>641</td>\n",
       "      <td>147579</td>\n",
       "      <td>Netflix Inc</td>\n",
       "      <td>7841</td>\n",
       "      <td>532230</td>\n",
       "      <td>2550</td>\n",
       "      <td>255020</td>\n",
       "      <td>25</td>\n",
       "      <td>25502020</td>\n",
       "    </tr>\n",
       "    <tr>\n",
       "      <th>41</th>\n",
       "      <td>711</td>\n",
       "      <td>199356</td>\n",
       "      <td>Tripadvisor Inc</td>\n",
       "      <td>7370</td>\n",
       "      <td>519130</td>\n",
       "      <td>2550</td>\n",
       "      <td>255020</td>\n",
       "      <td>25</td>\n",
       "      <td>25502020</td>\n",
       "    </tr>\n",
       "  </tbody>\n",
       "</table>\n",
       "</div>"
      ],
      "text/plain": [
       "    index   gvkey                  name   SIC   NAICS GICS_group  \\\n",
       "33    562  064768        Amazon.Com Inc  5961  454111       2550   \n",
       "34    594  119314  Booking Holdings Inc  7370  519130       2550   \n",
       "35    607  126296     Expedia Group Inc  4700  561510       2550   \n",
       "38    641  147579           Netflix Inc  7841  532230       2550   \n",
       "41    711  199356       Tripadvisor Inc  7370  519130       2550   \n",
       "\n",
       "   GICS_industry GICS_sector GICS_subindustry  \n",
       "33        255020          25         25502020  \n",
       "34        255020          25         25502020  \n",
       "35        255020          25         25502020  \n",
       "38        255020          25         25502020  \n",
       "41        255020          25         25502020  "
      ]
     },
     "execution_count": 8,
     "metadata": {},
     "output_type": "execute_result"
    }
   ],
   "source": [
    "wrds.dataset[wrds.dataset['GICS_subindustry'] == '25502020']"
   ]
  },
  {
   "cell_type": "code",
   "execution_count": 9,
   "metadata": {},
   "outputs": [
    {
     "data": {
      "text/html": [
       "<div>\n",
       "<style scoped>\n",
       "    .dataframe tbody tr th:only-of-type {\n",
       "        vertical-align: middle;\n",
       "    }\n",
       "\n",
       "    .dataframe tbody tr th {\n",
       "        vertical-align: top;\n",
       "    }\n",
       "\n",
       "    .dataframe thead th {\n",
       "        text-align: right;\n",
       "    }\n",
       "</style>\n",
       "<table border=\"1\" class=\"dataframe\">\n",
       "  <thead>\n",
       "    <tr style=\"text-align: right;\">\n",
       "      <th></th>\n",
       "      <th>index</th>\n",
       "      <th>gvkey</th>\n",
       "      <th>name</th>\n",
       "      <th>SIC</th>\n",
       "      <th>NAICS</th>\n",
       "      <th>GICS_group</th>\n",
       "      <th>GICS_industry</th>\n",
       "      <th>GICS_sector</th>\n",
       "      <th>GICS_subindustry</th>\n",
       "    </tr>\n",
       "  </thead>\n",
       "  <tbody>\n",
       "    <tr>\n",
       "      <th>0</th>\n",
       "      <td>41</td>\n",
       "      <td>002184</td>\n",
       "      <td>Best Buy Co Inc</td>\n",
       "      <td>5731</td>\n",
       "      <td>443142</td>\n",
       "      <td>2550</td>\n",
       "      <td>255040</td>\n",
       "      <td>25</td>\n",
       "      <td>25504020</td>\n",
       "    </tr>\n",
       "    <tr>\n",
       "      <th>1</th>\n",
       "      <td>83</td>\n",
       "      <td>003813</td>\n",
       "      <td>Target Corp</td>\n",
       "      <td>5331</td>\n",
       "      <td>452990</td>\n",
       "      <td>2550</td>\n",
       "      <td>255030</td>\n",
       "      <td>25</td>\n",
       "      <td>25503020</td>\n",
       "    </tr>\n",
       "    <tr>\n",
       "      <th>2</th>\n",
       "      <td>89</td>\n",
       "      <td>004016</td>\n",
       "      <td>Dollar General Corp</td>\n",
       "      <td>5331</td>\n",
       "      <td>452990</td>\n",
       "      <td>2550</td>\n",
       "      <td>255030</td>\n",
       "      <td>25</td>\n",
       "      <td>25503020</td>\n",
       "    </tr>\n",
       "    <tr>\n",
       "      <th>3</th>\n",
       "      <td>112</td>\n",
       "      <td>004560</td>\n",
       "      <td>Family Dollar Stores</td>\n",
       "      <td>5331</td>\n",
       "      <td>452990</td>\n",
       "      <td>2550</td>\n",
       "      <td>255030</td>\n",
       "      <td>25</td>\n",
       "      <td>25503020</td>\n",
       "    </tr>\n",
       "    <tr>\n",
       "      <th>4</th>\n",
       "      <td>115</td>\n",
       "      <td>004611</td>\n",
       "      <td>Macy'S Inc</td>\n",
       "      <td>5311</td>\n",
       "      <td>452111</td>\n",
       "      <td>2550</td>\n",
       "      <td>255030</td>\n",
       "      <td>25</td>\n",
       "      <td>25503010</td>\n",
       "    </tr>\n",
       "  </tbody>\n",
       "</table>\n",
       "</div>"
      ],
      "text/plain": [
       "   index   gvkey                  name   SIC   NAICS GICS_group GICS_industry  \\\n",
       "0     41  002184       Best Buy Co Inc  5731  443142       2550        255040   \n",
       "1     83  003813           Target Corp  5331  452990       2550        255030   \n",
       "2     89  004016   Dollar General Corp  5331  452990       2550        255030   \n",
       "3    112  004560  Family Dollar Stores  5331  452990       2550        255030   \n",
       "4    115  004611            Macy'S Inc  5311  452111       2550        255030   \n",
       "\n",
       "  GICS_sector GICS_subindustry  \n",
       "0          25         25504020  \n",
       "1          25         25503020  \n",
       "2          25         25503020  \n",
       "3          25         25503020  \n",
       "4          25         25503010  "
      ]
     },
     "execution_count": 9,
     "metadata": {},
     "output_type": "execute_result"
    }
   ],
   "source": [
    "wrds.dataset = wrds.dataset[wrds.dataset['GICS_subindustry'] != '25502020']\n",
    "wrds.dataset = wrds.dataset.reset_index(drop=True)\n",
    "wrds.dataset.head()"
   ]
  },
  {
   "cell_type": "code",
   "execution_count": 10,
   "metadata": {},
   "outputs": [],
   "source": [
    "wrds.db.close()"
   ]
  },
  {
   "cell_type": "code",
   "execution_count": null,
   "metadata": {},
   "outputs": [],
   "source": []
  }
 ],
 "metadata": {
  "kernelspec": {
   "display_name": "corporate_disruptions",
   "language": "python",
   "name": "corporate_disruptions"
  },
  "language_info": {
   "codemirror_mode": {
    "name": "ipython",
    "version": 3
   },
   "file_extension": ".py",
   "mimetype": "text/x-python",
   "name": "python",
   "nbconvert_exporter": "python",
   "pygments_lexer": "ipython3",
   "version": "3.6.7"
  },
  "varInspector": {
   "cols": {
    "lenName": 16,
    "lenType": 16,
    "lenVar": 40
   },
   "kernels_config": {
    "python": {
     "delete_cmd_postfix": "",
     "delete_cmd_prefix": "del ",
     "library": "var_list.py",
     "varRefreshCmd": "print(var_dic_list())"
    },
    "r": {
     "delete_cmd_postfix": ") ",
     "delete_cmd_prefix": "rm(",
     "library": "var_list.r",
     "varRefreshCmd": "cat(var_dic_list()) "
    }
   },
   "types_to_exclude": [
    "module",
    "function",
    "builtin_function_or_method",
    "instance",
    "_Feature"
   ],
   "window_display": false
  }
 },
 "nbformat": 4,
 "nbformat_minor": 1
}
